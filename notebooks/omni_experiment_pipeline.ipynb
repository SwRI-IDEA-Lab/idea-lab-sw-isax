{
 "cells": [
  {
   "cell_type": "code",
   "execution_count": 1,
   "metadata": {},
   "outputs": [
    {
     "name": "stderr",
     "output_type": "stream",
     "text": [
      "ERROR [jupyter:notebook_metadata:224] Failed to detect the name of this notebook, you can set it manually with the WANDB_NOTEBOOK_NAME environment variable to enable code saving.\n",
      "\u001b[34m\u001b[1mwandb\u001b[0m: Currently logged in as: \u001b[33mjasmine-kobayashi\u001b[0m (\u001b[33midea-lab\u001b[0m). Use \u001b[1m`wandb login --relogin`\u001b[0m to force relogin\n"
     ]
    }
   ],
   "source": [
    "import os\n",
    "os.chdir('C:/Users/rokka/GH-repos/idea-lab-sw-isax')\n",
    "\n",
    "import glob\n",
    "import datetime as dt\n",
    "import numpy as np\n",
    "from tqdm import tqdm\n",
    "\n",
    "# import local libraries\n",
    "import fdl21.data.prototyping_metrics as pm\n",
    "import fdl21.data.generate_catalog as gc\n",
    "from fdl21 import isax_model\n",
    "from fdl21.experiments import run_isax_experiments_sf as isax_exp_sf\n",
    "\n",
    "#catalog_fname = 'data/omni_master_catalog_1995_2019.csv'"
   ]
  },
  {
   "cell_type": "code",
   "execution_count": 3,
   "metadata": {},
   "outputs": [
    {
     "name": "stderr",
     "output_type": "stream",
     "text": [
      "INFO [run_isax_experiments_sf:run_experiment:645] Found 1 between 2018-01-01 00:00:00 2018-01-02 00:00:00\n"
     ]
    },
    {
     "name": "stderr",
     "output_type": "stream",
     "text": [
      "Creating file caches and histograms...:   0%|          | 0/1 [00:00<?, ?it/s]INFO [isax_model:build_cache:865] Loading cached file...\n",
      "c:\\Users\\rokka\\anaconda3\\envs\\idea-isax-sw\\Lib\\site-packages\\tslearn\\piecewise\\piecewise.py:152: RuntimeWarning: Mean of empty slice.\n",
      "  X_transformed[i_ts, i_seg, :] = segment.mean(axis=0)\n",
      "c:\\Users\\rokka\\anaconda3\\envs\\idea-isax-sw\\Lib\\site-packages\\numpy\\core\\_methods.py:184: RuntimeWarning: invalid value encountered in divide\n",
      "  ret = um.true_divide(\n",
      "c:\\Users\\rokka\\anaconda3\\envs\\idea-isax-sw\\Lib\\site-packages\\tslearn\\piecewise\\piecewise.py:152: RuntimeWarning: Mean of empty slice.\n",
      "  X_transformed[i_ts, i_seg, :] = segment.mean(axis=0)\n",
      "c:\\Users\\rokka\\anaconda3\\envs\\idea-isax-sw\\Lib\\site-packages\\numpy\\core\\_methods.py:184: RuntimeWarning: invalid value encountered in divide\n",
      "  ret = um.true_divide(\n",
      "c:\\Users\\rokka\\anaconda3\\envs\\idea-isax-sw\\Lib\\site-packages\\tslearn\\piecewise\\piecewise.py:152: RuntimeWarning: Mean of empty slice.\n",
      "  X_transformed[i_ts, i_seg, :] = segment.mean(axis=0)\n",
      "c:\\Users\\rokka\\anaconda3\\envs\\idea-isax-sw\\Lib\\site-packages\\numpy\\core\\_methods.py:184: RuntimeWarning: invalid value encountered in divide\n",
      "  ret = um.true_divide(\n",
      "Creating file caches and histograms...: 100%|██████████| 1/1 [00:07<00:00,  7.68s/it]\n",
      "INFO [run_isax_experiments_sf:run_experiment:712] Recalculating mean and standard deviations.\n",
      "C:\\Users\\rokka\\GH-repos\\idea-lab-sw-isax\\fdl21\\experiments\\run_isax_experiments_sf.py:718: RuntimeWarning: invalid value encountered in scalar divide\n",
      "  mu = np.sum(centers*hist*delta)/np.sum(hist*delta)\n",
      "INFO [run_isax_experiments_sf:run_experiment:726] mu = nan and sig=nan for x component\n",
      "INFO [run_isax_experiments_sf:run_experiment:726] mu = nan and sig=nan for y component\n",
      "INFO [run_isax_experiments_sf:run_experiment:726] mu = nan and sig=nan for z component\n",
      "Running pipeline...:   0%|          | 0/1 [00:00<?, ?it/s]c:\\Users\\rokka\\anaconda3\\envs\\idea-isax-sw\\Lib\\site-packages\\tslearn\\piecewise\\piecewise.py:152: RuntimeWarning: Mean of empty slice.\n",
      "  X_transformed[i_ts, i_seg, :] = segment.mean(axis=0)\n",
      "c:\\Users\\rokka\\anaconda3\\envs\\idea-isax-sw\\Lib\\site-packages\\numpy\\core\\_methods.py:184: RuntimeWarning: invalid value encountered in divide\n",
      "  ret = um.true_divide(\n",
      "c:\\Users\\rokka\\anaconda3\\envs\\idea-isax-sw\\Lib\\site-packages\\tslearn\\piecewise\\piecewise.py:152: RuntimeWarning: Mean of empty slice.\n",
      "  X_transformed[i_ts, i_seg, :] = segment.mean(axis=0)\n",
      "c:\\Users\\rokka\\anaconda3\\envs\\idea-isax-sw\\Lib\\site-packages\\numpy\\core\\_methods.py:184: RuntimeWarning: invalid value encountered in divide\n",
      "  ret = um.true_divide(\n",
      "c:\\Users\\rokka\\anaconda3\\envs\\idea-isax-sw\\Lib\\site-packages\\tslearn\\piecewise\\piecewise.py:152: RuntimeWarning: Mean of empty slice.\n",
      "  X_transformed[i_ts, i_seg, :] = segment.mean(axis=0)\n",
      "c:\\Users\\rokka\\anaconda3\\envs\\idea-isax-sw\\Lib\\site-packages\\numpy\\core\\_methods.py:184: RuntimeWarning: invalid value encountered in divide\n",
      "  ret = um.true_divide(\n",
      "Running pipeline...: 100%|██████████| 1/1 [00:11<00:00, 11.68s/it]\n",
      "INFO [run_isax_experiments_sf:run_experiment:782] Getting nodes for files\n",
      "\u001b[34m\u001b[1mwandb\u001b[0m: Currently logged in as: \u001b[33mjasmine-kobayashi\u001b[0m. Use \u001b[1m`wandb login --relogin`\u001b[0m to force relogin\n"
     ]
    },
    {
     "name": "stdout",
     "output_type": "stream",
     "text": [
      "Bad Files------------------------------------------------------------\n",
      "['/2018/omni_hro_1min_20180101_v01.cdf']\n",
      "------------------------------------------------------------\n"
     ]
    },
    {
     "data": {
      "application/vnd.jupyter.widget-view+json": {
       "model_id": "24601825a5cd4f91bad60e18c303c8d1",
       "version_major": 2,
       "version_minor": 0
      },
      "text/plain": [
       "VBox(children=(Label(value='Waiting for wandb.init()...\\r'), FloatProgress(value=0.01693333333338766, max=1.0)…"
      ]
     },
     "metadata": {},
     "output_type": "display_data"
    },
    {
     "name": "stdout",
     "output_type": "stream",
     "text": [
      "Problem at: c:\\Users\\rokka\\anaconda3\\envs\\idea-isax-sw\\Lib\\site-packages\\wandb\\sdk\\wandb_init.py 837 getcaller\n"
     ]
    },
    {
     "ename": "type",
     "evalue": "It appears that you do not have permission to access the requested resource. Please reach out to the project owner to grant you access. If you have the correct permissions, verify that there are no issues with your networking setup.(Error 403: Forbidden)",
     "output_type": "error",
     "traceback": [
      "\u001b[1;31m---------------------------------------------------------------------------\u001b[0m",
      "\u001b[1;31mCommError\u001b[0m                                 Traceback (most recent call last)",
      "\u001b[1;32mc:\\Users\\rokka\\GH-repos\\idea-lab-sw-isax\\notebooks\\test_omni_experiment copy.ipynb Cell 3\u001b[0m line \u001b[0;36m1\n\u001b[1;32m----> <a href='vscode-notebook-cell:/c%3A/Users/rokka/GH-repos/idea-lab-sw-isax/notebooks/test_omni_experiment%20copy.ipynb#X34sZmlsZQ%3D%3D?line=0'>1</a>\u001b[0m isax_exp_sf\u001b[39m.\u001b[39;49mrun_experiment(input_file\u001b[39m=\u001b[39;49m \u001b[39mNone\u001b[39;49;00m,   \u001b[39m#if None, cut of catalog is taken\u001b[39;49;00m\n\u001b[0;32m      <a href='vscode-notebook-cell:/c%3A/Users/rokka/GH-repos/idea-lab-sw-isax/notebooks/test_omni_experiment%20copy.ipynb#X34sZmlsZQ%3D%3D?line=1'>2</a>\u001b[0m                            start_date\u001b[39m=\u001b[39;49mstart_date,\n\u001b[0;32m      <a href='vscode-notebook-cell:/c%3A/Users/rokka/GH-repos/idea-lab-sw-isax/notebooks/test_omni_experiment%20copy.ipynb#X34sZmlsZQ%3D%3D?line=2'>3</a>\u001b[0m                            stop_date\u001b[39m=\u001b[39;49mstop_date,\n\u001b[0;32m      <a href='vscode-notebook-cell:/c%3A/Users/rokka/GH-repos/idea-lab-sw-isax/notebooks/test_omni_experiment%20copy.ipynb#X34sZmlsZQ%3D%3D?line=3'>4</a>\u001b[0m                            cadence\u001b[39m=\u001b[39;49mdt\u001b[39m.\u001b[39;49mtimedelta(seconds\u001b[39m=\u001b[39;49m\u001b[39m60\u001b[39;49m),\n\u001b[0;32m      <a href='vscode-notebook-cell:/c%3A/Users/rokka/GH-repos/idea-lab-sw-isax/notebooks/test_omni_experiment%20copy.ipynb#X34sZmlsZQ%3D%3D?line=4'>5</a>\u001b[0m                            cache\u001b[39m=\u001b[39;49m\u001b[39mTrue\u001b[39;49;00m,\n\u001b[0;32m      <a href='vscode-notebook-cell:/c%3A/Users/rokka/GH-repos/idea-lab-sw-isax/notebooks/test_omni_experiment%20copy.ipynb#X34sZmlsZQ%3D%3D?line=5'>6</a>\u001b[0m                            instrument\u001b[39m=\u001b[39;49m\u001b[39m'\u001b[39;49m\u001b[39momni\u001b[39;49m\u001b[39m'\u001b[39;49m)\n",
      "File \u001b[1;32m~\\GH-repos\\idea-lab-sw-isax\\fdl21\\experiments\\run_isax_experiments_sf.py:796\u001b[0m, in \u001b[0;36mrun_experiment\u001b[1;34m(input_file, start_date, stop_date, min_cardinality, max_cardinality, word_size, threshold, mu_x, std_x, mu_y, std_y, mu_z, std_z, cadence, chunk_size, smooth_window, detrend_window, node_level_depth, min_node_size, overlap, min_cluster_size, min_samples, cache, cache_folder, transliterate, instrument, cluster_selection_epsilon, plot_nodes, failsafe, n_processes)\u001b[0m\n\u001b[0;32m    793\u001b[0m     node_sizes[component]\u001b[39m.\u001b[39msort_values(ascending\u001b[39m=\u001b[39m\u001b[39mFalse\u001b[39;00m, inplace\u001b[39m=\u001b[39m\u001b[39mTrue\u001b[39;00m)\n\u001b[0;32m    795\u001b[0m date_time \u001b[39m=\u001b[39m \u001b[39mstr\u001b[39m(dt\u001b[39m.\u001b[39mdatetime\u001b[39m.\u001b[39mnow()\u001b[39m.\u001b[39mstrftime(\u001b[39m'\u001b[39m\u001b[39m%\u001b[39m\u001b[39mY\u001b[39m\u001b[39m%\u001b[39m\u001b[39mm\u001b[39m\u001b[39m%d\u001b[39;00m\u001b[39m%\u001b[39m\u001b[39mH\u001b[39m\u001b[39m%\u001b[39m\u001b[39mM\u001b[39m\u001b[39m'\u001b[39m))\n\u001b[1;32m--> 796\u001b[0m wandb\u001b[39m.\u001b[39;49minit(\n\u001b[0;32m    797\u001b[0m     entity\u001b[39m=\u001b[39;49m\u001b[39m'\u001b[39;49m\u001b[39msolar-wind\u001b[39;49m\u001b[39m'\u001b[39;49m, \n\u001b[0;32m    798\u001b[0m     name\u001b[39m=\u001b[39;49m\u001b[39mf\u001b[39;49m\u001b[39m'\u001b[39;49m\u001b[39m{\u001b[39;49;00mpdf_file\u001b[39m}\u001b[39;49;00m\u001b[39m_\u001b[39;49m\u001b[39m{\u001b[39;49;00mdate_time\u001b[39m}\u001b[39;49;00m\u001b[39m'\u001b[39;49m,\n\u001b[0;32m    799\u001b[0m     project\u001b[39m=\u001b[39;49m\u001b[39m'\u001b[39;49m\u001b[39mCB_week_8_60_full_\u001b[39;49m\u001b[39m'\u001b[39;49m\u001b[39m+\u001b[39;49minstrument, \n\u001b[0;32m    800\u001b[0m     job_type\u001b[39m=\u001b[39;49m\u001b[39m'\u001b[39;49m\u001b[39mplot-isax-node\u001b[39;49m\u001b[39m'\u001b[39;49m,\n\u001b[0;32m    801\u001b[0m     config\u001b[39m=\u001b[39;49misax_pipe\u001b[39m.\u001b[39;49minput_parameters\n\u001b[0;32m    802\u001b[0m )\n\u001b[0;32m    804\u001b[0m \u001b[39mif\u001b[39;00m \u001b[39mnot\u001b[39;00m os\u001b[39m.\u001b[39mpath\u001b[39m.\u001b[39mexists(\u001b[39m'\u001b[39m\u001b[39mruns\u001b[39m\u001b[39m'\u001b[39m):\n\u001b[0;32m    805\u001b[0m     os\u001b[39m.\u001b[39mmakedirs(\u001b[39m'\u001b[39m\u001b[39mruns\u001b[39m\u001b[39m'\u001b[39m)\n",
      "File \u001b[1;32mc:\\Users\\rokka\\anaconda3\\envs\\idea-isax-sw\\Lib\\site-packages\\wandb\\sdk\\wandb_init.py:1173\u001b[0m, in \u001b[0;36minit\u001b[1;34m(job_type, dir, config, project, entity, reinit, tags, group, name, notes, magic, config_exclude_keys, config_include_keys, anonymous, mode, allow_val_change, resume, force, tensorboard, sync_tensorboard, monitor_gym, save_code, id, settings)\u001b[0m\n\u001b[0;32m   1171\u001b[0m     \u001b[39mif\u001b[39;00m logger \u001b[39mis\u001b[39;00m \u001b[39mnot\u001b[39;00m \u001b[39mNone\u001b[39;00m:\n\u001b[0;32m   1172\u001b[0m         logger\u001b[39m.\u001b[39mexception(\u001b[39mstr\u001b[39m(e))\n\u001b[1;32m-> 1173\u001b[0m     \u001b[39mraise\u001b[39;00m e\n\u001b[0;32m   1174\u001b[0m \u001b[39mexcept\u001b[39;00m \u001b[39mKeyboardInterrupt\u001b[39;00m \u001b[39mas\u001b[39;00m e:\n\u001b[0;32m   1175\u001b[0m     \u001b[39massert\u001b[39;00m logger\n",
      "File \u001b[1;32mc:\\Users\\rokka\\anaconda3\\envs\\idea-isax-sw\\Lib\\site-packages\\wandb\\sdk\\wandb_init.py:1154\u001b[0m, in \u001b[0;36minit\u001b[1;34m(job_type, dir, config, project, entity, reinit, tags, group, name, notes, magic, config_exclude_keys, config_include_keys, anonymous, mode, allow_val_change, resume, force, tensorboard, sync_tensorboard, monitor_gym, save_code, id, settings)\u001b[0m\n\u001b[0;32m   1152\u001b[0m except_exit \u001b[39m=\u001b[39m wi\u001b[39m.\u001b[39msettings\u001b[39m.\u001b[39m_except_exit\n\u001b[0;32m   1153\u001b[0m \u001b[39mtry\u001b[39;00m:\n\u001b[1;32m-> 1154\u001b[0m     run \u001b[39m=\u001b[39m wi\u001b[39m.\u001b[39;49minit()\n\u001b[0;32m   1155\u001b[0m     except_exit \u001b[39m=\u001b[39m wi\u001b[39m.\u001b[39msettings\u001b[39m.\u001b[39m_except_exit\n\u001b[0;32m   1156\u001b[0m \u001b[39mexcept\u001b[39;00m (\u001b[39mKeyboardInterrupt\u001b[39;00m, \u001b[39mException\u001b[39;00m) \u001b[39mas\u001b[39;00m e:\n",
      "File \u001b[1;32mc:\\Users\\rokka\\anaconda3\\envs\\idea-isax-sw\\Lib\\site-packages\\wandb\\sdk\\wandb_init.py:770\u001b[0m, in \u001b[0;36m_WandbInit.init\u001b[1;34m(self)\u001b[0m\n\u001b[0;32m    768\u001b[0m         backend\u001b[39m.\u001b[39mcleanup()\n\u001b[0;32m    769\u001b[0m         \u001b[39mself\u001b[39m\u001b[39m.\u001b[39mteardown()\n\u001b[1;32m--> 770\u001b[0m     \u001b[39mraise\u001b[39;00m error\n\u001b[0;32m    772\u001b[0m \u001b[39massert\u001b[39;00m run_result \u001b[39mis\u001b[39;00m \u001b[39mnot\u001b[39;00m \u001b[39mNone\u001b[39;00m  \u001b[39m# for mypy\u001b[39;00m\n\u001b[0;32m    774\u001b[0m \u001b[39mif\u001b[39;00m \u001b[39mnot\u001b[39;00m run_result\u001b[39m.\u001b[39mHasField(\u001b[39m\"\u001b[39m\u001b[39mrun\u001b[39m\u001b[39m\"\u001b[39m):\n",
      "\u001b[1;31mCommError\u001b[0m: It appears that you do not have permission to access the requested resource. Please reach out to the project owner to grant you access. If you have the correct permissions, verify that there are no issues with your networking setup.(Error 403: Forbidden)"
     ]
    }
   ],
   "source": [
    "isax_exp_sf.run_experiment(input_file= None,                   #if None, cut of catalog is used\n",
    "                           start_date= dt.datetime(2018, 1, 1),  # start date of catalog cut\n",
    "                           stop_date= dt.datetime(2018, 1, 2),   # end date of catalog cut\n",
    "                           cadence=dt.timedelta(seconds=60),\n",
    "                           cache=True,\n",
    "                           instrument='omni')"
   ]
  }
 ],
 "metadata": {
  "kernelspec": {
   "display_name": "idea-isax-sw",
   "language": "python",
   "name": "python3"
  },
  "language_info": {
   "codemirror_mode": {
    "name": "ipython",
    "version": 3
   },
   "file_extension": ".py",
   "mimetype": "text/x-python",
   "name": "python",
   "nbconvert_exporter": "python",
   "pygments_lexer": "ipython3",
   "version": "3.11.4"
  },
  "orig_nbformat": 4
 },
 "nbformat": 4,
 "nbformat_minor": 2
}
