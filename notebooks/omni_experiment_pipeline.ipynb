{
 "cells": [
  {
   "cell_type": "markdown",
   "metadata": {},
   "source": [
    "# Break down of `run_experiment()`"
   ]
  },
  {
   "cell_type": "code",
   "execution_count": 1,
   "metadata": {},
   "outputs": [
    {
     "name": "stderr",
     "output_type": "stream",
     "text": [
      "ERROR [jupyter:notebook_metadata:224] Failed to detect the name of this notebook, you can set it manually with the WANDB_NOTEBOOK_NAME environment variable to enable code saving.\n",
      "\u001b[34m\u001b[1mwandb\u001b[0m: Currently logged in as: \u001b[33mjasmine-kobayashi\u001b[0m (\u001b[33midea-lab\u001b[0m). Use \u001b[1m`wandb login --relogin`\u001b[0m to force relogin\n"
     ]
    }
   ],
   "source": [
    "import os\n",
    "os.chdir('C:/Users/rokka/GH-repos/idea-lab-sw-isax')\n",
    "\n",
    "import glob\n",
    "import datetime as dt\n",
    "import numpy as np\n",
    "import pandas as pd\n",
    "from collections import defaultdict\n",
    "from itertools import product\n",
    "from concurrent.futures import ProcessPoolExecutor as Pool\n",
    "from tqdm import tqdm\n",
    "\n",
    "# import local libraries\n",
    "import fdl21.data.prototyping_metrics as pm\n",
    "import fdl21.data.generate_catalog as gc\n",
    "from fdl21 import isax_model\n",
    "from fdl21.experiments import run_isax_experiments_sf as isax_exp_sf\n",
    "import fdl21.visualization.isax_visualization as isax_vis\n",
    "\n",
    "#catalog_fname = 'data/omni_master_catalog_1995_2019.csv'"
   ]
  },
  {
   "cell_type": "markdown",
   "metadata": {},
   "source": [
    "## Parameters"
   ]
  },
  {
   "cell_type": "code",
   "execution_count": 2,
   "metadata": {},
   "outputs": [],
   "source": [
    "# init default parameters\n",
    "input_file = None\n",
    "start_date=dt.datetime(2018, 11, 21)\n",
    "stop_date=dt.datetime(2018, 12, 31)\n",
    "min_cardinality = 8\n",
    "max_cardinality = 32\n",
    "word_size = 10\n",
    "threshold = 200\n",
    "mu_x = 0.\n",
    "std_x = 3.5\n",
    "mu_y = 0.\n",
    "std_y = 3.4\n",
    "mu_z = 0.\n",
    "std_z = 3.4\n",
    "cadence=dt.timedelta(seconds=1)\n",
    "chunk_size=dt.timedelta(seconds=300)\n",
    "smooth_window=dt.timedelta(seconds=2)\n",
    "detrend_window=dt.timedelta(seconds=1800)\n",
    "node_level_depth = 2\n",
    "min_node_size = 5\n",
    "overlap = dt.timedelta(seconds=0)\n",
    "min_cluster_size = 5\n",
    "min_samples = 5\n",
    "cache=False\n",
    "cache_folder= '/cache/'\n",
    "transliterate = False\n",
    "instrument='psp'\n",
    "cluster_selection_epsilon=None\n",
    "plot_nodes=False\n",
    "failsafe=False\n",
    "n_processes=4"
   ]
  },
  {
   "cell_type": "code",
   "execution_count": 3,
   "metadata": {},
   "outputs": [],
   "source": [
    "# non-default init parameters\n",
    "input_file= None                     #if None, cut of catalog is used\n",
    "start_date= dt.datetime(2018, 1, 1)  # start date of catalog cut\n",
    "stop_date= dt.datetime(2018, 2, 1)   # end date of catalog cut\n",
    "cadence=dt.timedelta(seconds=60)\n",
    "cache=True\n",
    "instrument='omni'"
   ]
  },
  {
   "cell_type": "markdown",
   "metadata": {},
   "source": [
    "## Function code from line 582-731\n",
    "Right before the line that has description `\"Running pipelin...\"`"
   ]
  },
  {
   "cell_type": "code",
   "execution_count": 4,
   "metadata": {},
   "outputs": [
    {
     "name": "stderr",
     "output_type": "stream",
     "text": [
      "Creating file caches and histograms...:   0%|          | 0/2 [00:00<?, ?it/s]INFO [isax_model:build_cache:865] Loading cached file...\n",
      "c:\\Users\\rokka\\anaconda3\\envs\\idea-isax-sw\\Lib\\site-packages\\tslearn\\piecewise\\piecewise.py:152: RuntimeWarning: Mean of empty slice.\n",
      "  X_transformed[i_ts, i_seg, :] = segment.mean(axis=0)\n",
      "c:\\Users\\rokka\\anaconda3\\envs\\idea-isax-sw\\Lib\\site-packages\\numpy\\core\\_methods.py:184: RuntimeWarning: invalid value encountered in divide\n",
      "  ret = um.true_divide(\n",
      "c:\\Users\\rokka\\anaconda3\\envs\\idea-isax-sw\\Lib\\site-packages\\tslearn\\piecewise\\piecewise.py:152: RuntimeWarning: Mean of empty slice.\n",
      "  X_transformed[i_ts, i_seg, :] = segment.mean(axis=0)\n",
      "c:\\Users\\rokka\\anaconda3\\envs\\idea-isax-sw\\Lib\\site-packages\\numpy\\core\\_methods.py:184: RuntimeWarning: invalid value encountered in divide\n",
      "  ret = um.true_divide(\n",
      "c:\\Users\\rokka\\anaconda3\\envs\\idea-isax-sw\\Lib\\site-packages\\tslearn\\piecewise\\piecewise.py:152: RuntimeWarning: Mean of empty slice.\n",
      "  X_transformed[i_ts, i_seg, :] = segment.mean(axis=0)\n",
      "c:\\Users\\rokka\\anaconda3\\envs\\idea-isax-sw\\Lib\\site-packages\\numpy\\core\\_methods.py:184: RuntimeWarning: invalid value encountered in divide\n",
      "  ret = um.true_divide(\n",
      "Creating file caches and histograms...:  50%|█████     | 1/2 [00:09<00:09,  9.04s/it]INFO [isax_model:build_cache:865] Loading cached file...\n",
      "c:\\Users\\rokka\\anaconda3\\envs\\idea-isax-sw\\Lib\\site-packages\\tslearn\\piecewise\\piecewise.py:152: RuntimeWarning: Mean of empty slice.\n",
      "  X_transformed[i_ts, i_seg, :] = segment.mean(axis=0)\n",
      "c:\\Users\\rokka\\anaconda3\\envs\\idea-isax-sw\\Lib\\site-packages\\numpy\\core\\_methods.py:184: RuntimeWarning: invalid value encountered in divide\n",
      "  ret = um.true_divide(\n",
      "c:\\Users\\rokka\\anaconda3\\envs\\idea-isax-sw\\Lib\\site-packages\\tslearn\\piecewise\\piecewise.py:152: RuntimeWarning: Mean of empty slice.\n",
      "  X_transformed[i_ts, i_seg, :] = segment.mean(axis=0)\n",
      "c:\\Users\\rokka\\anaconda3\\envs\\idea-isax-sw\\Lib\\site-packages\\numpy\\core\\_methods.py:184: RuntimeWarning: invalid value encountered in divide\n",
      "  ret = um.true_divide(\n",
      "c:\\Users\\rokka\\anaconda3\\envs\\idea-isax-sw\\Lib\\site-packages\\tslearn\\piecewise\\piecewise.py:152: RuntimeWarning: Mean of empty slice.\n",
      "  X_transformed[i_ts, i_seg, :] = segment.mean(axis=0)\n",
      "c:\\Users\\rokka\\anaconda3\\envs\\idea-isax-sw\\Lib\\site-packages\\numpy\\core\\_methods.py:184: RuntimeWarning: invalid value encountered in divide\n",
      "  ret = um.true_divide(\n",
      "Creating file caches and histograms...: 100%|██████████| 2/2 [00:16<00:00,  8.26s/it]\n",
      "C:\\Users\\rokka\\AppData\\Local\\Temp\\ipykernel_23428\\811093550.py:137: RuntimeWarning: invalid value encountered in scalar divide\n",
      "  mu = np.sum(centers*hist*delta)/np.sum(hist*delta)\n"
     ]
    }
   ],
   "source": [
    "# Cluster selection epsilon text (for pdf filename)\n",
    "if cluster_selection_epsilon is None:\n",
    "    cse_text = 'NA'\n",
    "else:\n",
    "    cse_text = str(int(cluster_selection_epsilon*10))\n",
    "\n",
    "# File and directory path naming\n",
    "cache_folder = f'CS{chunk_size.seconds}_C{cadence.seconds}_SW{smooth_window.seconds}_DW{detrend_window.seconds}_O{overlap.seconds}_{instrument}'\n",
    "pdf_file = cache_folder + f'_WS{word_size}_CA{min_cardinality}_{max_cardinality}_MCS{min_cluster_size}_MS{min_samples}_T{threshold}_NLD{node_level_depth}_CSE{cse_text}'\n",
    "cache_folder =  '/cache/' + cache_folder + '/'\n",
    "v = isax_vis.iSaxVisualizer()\n",
    "\n",
    "# Data catalog file name to access based on instrument\n",
    "if instrument == 'psp':\n",
    "    catalog_fname = 'psp_master_catalog_2018_2021_rads_norm.csv' \n",
    "elif instrument == 'wind':\n",
    "    catalog_fname = 'wind_master_catalog_2006_2022.csv'\n",
    "elif instrument == 'omni':\n",
    "    catalog_fname = 'omni_master_catalog_1995_2022.csv'\n",
    "\n",
    "# Orbit file\n",
    "if instrument == 'omni':\n",
    "    orbit_fname = None\n",
    "else: \n",
    "    orbit_fname = 'psp_orbit.csv'\n",
    "\n",
    "# Instantiate iSax model Pipeline\n",
    "isax_pipe = isax_model.iSaxPipeline(\n",
    "    orbit_fname = orbit_fname,\n",
    "    catalog_fname = catalog_fname,\n",
    "    threshold = threshold,\n",
    "    word_size = word_size,\n",
    "    min_cardinality = min_cardinality,\n",
    "    max_cardinality = max_cardinality,\n",
    "    mu_x = mu_x,\n",
    "    std_x = std_x,\n",
    "    mu_y = mu_y,\n",
    "    std_y = std_y,\n",
    "    mu_z = mu_z,\n",
    "    std_z = std_z,\n",
    "    instrument=instrument\n",
    ")   \n",
    "\n",
    "if failsafe:\n",
    "    isax_pipe_dummy = isax_model.iSaxPipeline(\n",
    "        orbit_fname = orbit_fname,\n",
    "        catalog_fname = catalog_fname,\n",
    "        threshold = threshold,\n",
    "        word_size = word_size,\n",
    "        min_cardinality = min_cardinality,\n",
    "        max_cardinality = max_cardinality,\n",
    "        mu_x = mu_x,\n",
    "        std_x = std_x,\n",
    "        mu_y = mu_y,\n",
    "        std_y = std_y,\n",
    "        mu_z = mu_z,\n",
    "        std_z = std_z,\n",
    "        instrument=instrument\n",
    "    ) \n",
    "\n",
    "if input_file is None:\n",
    "    catalog_cut = isax_pipe.catalog[start_date:stop_date]\n",
    "    flist = list(catalog_cut['fname'].values)\n",
    "    #LOG.info(f'Found {len(flist)} between {start_date} {stop_date}')\n",
    "else:\n",
    "    catalog_cut = pd.read_csv(input_file, header=0, index_col=0, parse_dates=True)\n",
    "    flist = list(catalog_cut['fname'].values)\n",
    "    #LOG.info(f'Analyzing {len(flist)} between {catalog_cut.index[0]} {catalog_cut.index[-1]}')\n",
    "\n",
    "# Running the cache once to build the cache files\n",
    "if cache:\n",
    "\n",
    "    cache_list = list(product(\n",
    "                        flist,\n",
    "                        [cadence],\n",
    "                        [chunk_size],\n",
    "                        [overlap],\n",
    "                        [smooth_window],\n",
    "                        [detrend_window],\n",
    "                        [cache_folder],\n",
    "                        [instrument]                            \n",
    "                        ))\n",
    "\n",
    "    (flist_mp,\n",
    "    cadence_mp,\n",
    "    chunk_size_mp,\n",
    "    overlap_mp,\n",
    "    smooth_window_mp,\n",
    "    detrend_window_mp,\n",
    "    cache_folder_mp,\n",
    "    instrument_mp) = map(list, zip(*cache_list))                                \n",
    "\n",
    "    with Pool(max_workers=n_processes) as pool:\n",
    "        good_files = pool.map(isax_exp_sf.build_cache,\n",
    "                            flist_mp,\n",
    "                            cadence_mp,\n",
    "                            chunk_size_mp,\n",
    "                            overlap_mp,\n",
    "                            smooth_window_mp,\n",
    "                            detrend_window_mp,\n",
    "                            cache_folder_mp,\n",
    "                            instrument_mp)\n",
    "\n",
    "# Running the cache twice to calculate the histogram, means and stds\n",
    "if cache:\n",
    "    bad_files = []\n",
    "    good_files = []\n",
    "    for file in tqdm(flist, desc=f'Creating file caches and histograms...'):\n",
    "        isax_pipe.mag_df = None\n",
    "\n",
    "        try:\n",
    "            isax_pipe.build_cache(\n",
    "                file=file,\n",
    "                cadence=cadence,\n",
    "                chunk_size=chunk_size,\n",
    "                overlap = overlap,\n",
    "                rads_norm=True,\n",
    "                smooth=True,\n",
    "                smooth_window=smooth_window,\n",
    "                detrend=True,\n",
    "                detrend_window=detrend_window,\n",
    "                optimized=True,\n",
    "                cache_folder=cache_folder,\n",
    "                instrument=instrument\n",
    "            )\n",
    "            good_files.append(True)\n",
    "        except:\n",
    "            bad_files.append(file)\n",
    "            good_files.append(False)\n",
    "\n",
    "    #LOG.info('Recalculating mean and standard deviations.')\n",
    "    bins = isax_pipe.bins\n",
    "    delta = np.nanmedian(bins[1:]-bins[0:-1])\n",
    "    centers = (bins[1:]+bins[0:-1])/2\n",
    "    for component in ['x', 'y', 'z']:\n",
    "        hist = isax_pipe.hist[component]\n",
    "        mu = np.sum(centers*hist*delta)/np.sum(hist*delta)\n",
    "        \n",
    "        sig = np.sum(np.power(centers-mu, 2)*hist*delta)\n",
    "        sig = sig/np.sum(hist*delta)\n",
    "        sig = np.sqrt(sig)\n",
    "\n",
    "        isax_pipe._mu[component] = mu\n",
    "        isax_pipe._std[component] = sig            \n",
    "        #LOG.info(f'mu = {mu} and sig={sig} for ' + component + ' component')\n",
    "\n",
    "flist = np.array(flist)\n",
    "good_files = np.array(good_files)\n",
    "flist = flist[good_files]"
   ]
  },
  {
   "cell_type": "code",
   "execution_count": 5,
   "metadata": {},
   "outputs": [
    {
     "data": {
      "text/plain": [
       "array([ True,  True])"
      ]
     },
     "execution_count": 5,
     "metadata": {},
     "output_type": "execute_result"
    }
   ],
   "source": [
    "good_files"
   ]
  },
  {
   "cell_type": "code",
   "execution_count": 6,
   "metadata": {},
   "outputs": [
    {
     "data": {
      "text/plain": [
       "array(['/2018/omni_hro_1min_20180101_v01.cdf',\n",
       "       '/2018/omni_hro_1min_20180201_v01.cdf'], dtype='<U36')"
      ]
     },
     "execution_count": 6,
     "metadata": {},
     "output_type": "execute_result"
    }
   ],
   "source": [
    "flist  #list of good files"
   ]
  },
  {
   "cell_type": "markdown",
   "metadata": {},
   "source": [
    "## Function code from line 732-847\n",
    "\n",
    "Starting to run the iSAX pipeline right before the clustering. "
   ]
  },
  {
   "cell_type": "code",
   "execution_count": 7,
   "metadata": {},
   "outputs": [
    {
     "name": "stderr",
     "output_type": "stream",
     "text": [
      "Running pipeline...:   0%|          | 0/2 [00:00<?, ?it/s]c:\\Users\\rokka\\anaconda3\\envs\\idea-isax-sw\\Lib\\site-packages\\tslearn\\piecewise\\piecewise.py:152: RuntimeWarning: Mean of empty slice.\n",
      "  X_transformed[i_ts, i_seg, :] = segment.mean(axis=0)\n",
      "c:\\Users\\rokka\\anaconda3\\envs\\idea-isax-sw\\Lib\\site-packages\\numpy\\core\\_methods.py:184: RuntimeWarning: invalid value encountered in divide\n",
      "  ret = um.true_divide(\n",
      "c:\\Users\\rokka\\anaconda3\\envs\\idea-isax-sw\\Lib\\site-packages\\tslearn\\piecewise\\piecewise.py:152: RuntimeWarning: Mean of empty slice.\n",
      "  X_transformed[i_ts, i_seg, :] = segment.mean(axis=0)\n",
      "c:\\Users\\rokka\\anaconda3\\envs\\idea-isax-sw\\Lib\\site-packages\\numpy\\core\\_methods.py:184: RuntimeWarning: invalid value encountered in divide\n",
      "  ret = um.true_divide(\n",
      "c:\\Users\\rokka\\anaconda3\\envs\\idea-isax-sw\\Lib\\site-packages\\tslearn\\piecewise\\piecewise.py:152: RuntimeWarning: Mean of empty slice.\n",
      "  X_transformed[i_ts, i_seg, :] = segment.mean(axis=0)\n",
      "c:\\Users\\rokka\\anaconda3\\envs\\idea-isax-sw\\Lib\\site-packages\\numpy\\core\\_methods.py:184: RuntimeWarning: invalid value encountered in divide\n",
      "  ret = um.true_divide(\n",
      "Running pipeline...:  50%|█████     | 1/2 [00:11<00:11, 11.67s/it]c:\\Users\\rokka\\anaconda3\\envs\\idea-isax-sw\\Lib\\site-packages\\tslearn\\piecewise\\piecewise.py:152: RuntimeWarning: Mean of empty slice.\n",
      "  X_transformed[i_ts, i_seg, :] = segment.mean(axis=0)\n",
      "c:\\Users\\rokka\\anaconda3\\envs\\idea-isax-sw\\Lib\\site-packages\\numpy\\core\\_methods.py:184: RuntimeWarning: invalid value encountered in divide\n",
      "  ret = um.true_divide(\n",
      "c:\\Users\\rokka\\anaconda3\\envs\\idea-isax-sw\\Lib\\site-packages\\tslearn\\piecewise\\piecewise.py:152: RuntimeWarning: Mean of empty slice.\n",
      "  X_transformed[i_ts, i_seg, :] = segment.mean(axis=0)\n",
      "c:\\Users\\rokka\\anaconda3\\envs\\idea-isax-sw\\Lib\\site-packages\\numpy\\core\\_methods.py:184: RuntimeWarning: invalid value encountered in divide\n",
      "  ret = um.true_divide(\n",
      "c:\\Users\\rokka\\anaconda3\\envs\\idea-isax-sw\\Lib\\site-packages\\tslearn\\piecewise\\piecewise.py:152: RuntimeWarning: Mean of empty slice.\n",
      "  X_transformed[i_ts, i_seg, :] = segment.mean(axis=0)\n",
      "c:\\Users\\rokka\\anaconda3\\envs\\idea-isax-sw\\Lib\\site-packages\\numpy\\core\\_methods.py:184: RuntimeWarning: invalid value encountered in divide\n",
      "  ret = um.true_divide(\n",
      "c:\\Users\\rokka\\anaconda3\\envs\\idea-isax-sw\\Lib\\site-packages\\tslearn\\piecewise\\piecewise.py:152: RuntimeWarning: Mean of empty slice.\n",
      "  X_transformed[i_ts, i_seg, :] = segment.mean(axis=0)\n",
      "c:\\Users\\rokka\\anaconda3\\envs\\idea-isax-sw\\Lib\\site-packages\\numpy\\core\\_methods.py:184: RuntimeWarning: invalid value encountered in divide\n",
      "  ret = um.true_divide(\n",
      "c:\\Users\\rokka\\anaconda3\\envs\\idea-isax-sw\\Lib\\site-packages\\tslearn\\piecewise\\piecewise.py:152: RuntimeWarning: Mean of empty slice.\n",
      "  X_transformed[i_ts, i_seg, :] = segment.mean(axis=0)\n",
      "c:\\Users\\rokka\\anaconda3\\envs\\idea-isax-sw\\Lib\\site-packages\\numpy\\core\\_methods.py:184: RuntimeWarning: invalid value encountered in divide\n",
      "  ret = um.true_divide(\n",
      "c:\\Users\\rokka\\anaconda3\\envs\\idea-isax-sw\\Lib\\site-packages\\tslearn\\piecewise\\piecewise.py:152: RuntimeWarning: Mean of empty slice.\n",
      "  X_transformed[i_ts, i_seg, :] = segment.mean(axis=0)\n",
      "c:\\Users\\rokka\\anaconda3\\envs\\idea-isax-sw\\Lib\\site-packages\\numpy\\core\\_methods.py:184: RuntimeWarning: invalid value encountered in divide\n",
      "  ret = um.true_divide(\n",
      "c:\\Users\\rokka\\anaconda3\\envs\\idea-isax-sw\\Lib\\site-packages\\tslearn\\piecewise\\piecewise.py:152: RuntimeWarning: Mean of empty slice.\n",
      "  X_transformed[i_ts, i_seg, :] = segment.mean(axis=0)\n",
      "c:\\Users\\rokka\\anaconda3\\envs\\idea-isax-sw\\Lib\\site-packages\\numpy\\core\\_methods.py:184: RuntimeWarning: invalid value encountered in divide\n",
      "  ret = um.true_divide(\n",
      "Running pipeline...: 100%|██████████| 2/2 [00:21<00:00, 10.87s/it]\n",
      "INFO [isax_model:save:731] Saving input parameters to following output file,\n",
      "runs/CS300_C60_SW2_DW1800_O0_omni_WS10_CA8_32_MCS5_MS5_T200_NLD2_CSENA.json\n",
      "------------------------------------------------------------\n"
     ]
    },
    {
     "name": "stdout",
     "output_type": "stream",
     "text": [
      "Bad Files------------------------------------------------------------\n",
      "['/2018/omni_hro_1min_20180101_v01.cdf', '/2018/omni_hro_1min_20180201_v01.cdf']\n",
      "------------------------------------------------------------\n"
     ]
    }
   ],
   "source": [
    "for file in tqdm(flist, desc=f'Running pipeline...'):\n",
    "    isax_pipe.mag_df = None\n",
    "    try:\n",
    "\n",
    "        if failsafe:\n",
    "            isax_pipe_dummy.run_pipeline(\n",
    "                flist=[file],\n",
    "                cadence=cadence,\n",
    "                chunk_size=chunk_size,\n",
    "                overlap = overlap,\n",
    "                rads_norm=True,\n",
    "                smooth=True,\n",
    "                smooth_window=smooth_window,\n",
    "                detrend=True,\n",
    "                detrend_window=detrend_window,\n",
    "                optimized=True,\n",
    "                cache_folder=cache_folder,\n",
    "                cache=cache,\n",
    "                instrument=instrument\n",
    "            )\n",
    "\n",
    "        isax_pipe.run_pipeline(\n",
    "            flist=[file],\n",
    "            cadence=cadence,\n",
    "            chunk_size=chunk_size,\n",
    "            overlap = overlap,\n",
    "            rads_norm=True,\n",
    "            smooth=True,\n",
    "            smooth_window=smooth_window,\n",
    "            detrend=True,\n",
    "            detrend_window=detrend_window,\n",
    "            optimized=True,\n",
    "            cache_folder=cache_folder,\n",
    "            cache=cache,\n",
    "            instrument=instrument\n",
    "        )\n",
    "\n",
    "        # reset dummie's forests\n",
    "        isax_pipe_dummy._sw_forest = {'x': None, 'y': None, 'z': None, 'all': None}\n",
    "    except:\n",
    "        bad_files.append(file)\n",
    "\n",
    "\n",
    "print('Bad Files------------------------------------------------------------')\n",
    "print(bad_files)\n",
    "bad_files_df = pd.DataFrame(data={'Bad Files': bad_files})\n",
    "bad_files_df.to_csv(f'bad_files_{instrument}.csv')\n",
    "print('------------------------------------------------------------')\n",
    "\n",
    "node_sizes = defaultdict(list)\n",
    "#LOG.info('Getting nodes for files')\n",
    "for component in ['x', 'y', 'z']:\n",
    "    isax_pipe.get_nodes_at_level(\n",
    "        component=component,\n",
    "        node_level=node_level_depth\n",
    "    )\n",
    "    for node in isax_pipe.nodes_at_level[component][node_level_depth]:\n",
    "        node_sizes[component].append(node.get_annotations().shape[0])\n",
    "\n",
    "for component in ['x', 'y', 'z']:\n",
    "    node_sizes[component] = pd.Series(node_sizes[component])\n",
    "    node_sizes[component].sort_values(ascending=False, inplace=True)\n",
    "\n",
    "date_time = str(dt.datetime.now().strftime('%Y%m%d%H%M'))\n",
    "# wandb.init(\n",
    "#     entity='solar-wind', \n",
    "#     name=f'{pdf_file}_{date_time}',\n",
    "#     project='CB_week_8_60_full_'+instrument, \n",
    "#     job_type='plot-isax-node',\n",
    "#     config=isax_pipe.input_parameters\n",
    "# )\n",
    "\n",
    "if not os.path.exists('runs'):\n",
    "    os.makedirs('runs')\n",
    "\n",
    "\n",
    "parameter_file = isax_pipe.save(\n",
    "    fname= 'runs/' + pdf_file + '.json',\n",
    "    overwrite=True\n",
    ")\n",
    "\n",
    "\n",
    "dirname = pdf_file\n",
    "\n",
    "# push_to_cloud(parameter_file.split('/')[1], dirname=dirname + '_' + date_time, relative_folder='runs/')\n",
    "# example_table = wandb.Table(columns=[\n",
    "#                 \"Chunk Size\",\n",
    "#                 \"Word Size\",\n",
    "#                 \"Min Cardinality\",\n",
    "#                 \"Max Cardinality\",\n",
    "#                 \"Threshold\",\n",
    "#                 \"Smooth_Window\",\n",
    "#                 \"Detrend Window\",\n",
    "#                 \"Overlap\",\n",
    "#                 \"Component\",\n",
    "#                 \"Min Samples\",\n",
    "#                 \"Min Cluster Size\",\n",
    "#                 \"Cluster Epsilon\",\n",
    "#                 \"Number of Clusters\", \n",
    "#                 \"Number of Nodes\", \n",
    "#                 \"Cluster Image\", \n",
    "#                 \"Cluster PDF\", \n",
    "#                 \"Node PDF\",\n",
    "#                 \"Tree\",\n",
    "#                 \"Bucket Link\"\n",
    "#                 ]\n",
    "# ) \n",
    "\n",
    "if transliterate:\n",
    "    component_annotations = {'x': pd.DataFrame(),'y': pd.DataFrame(), 'z': pd.DataFrame()}\n",
    "    transliteration_file = pdf_file + '_transliteration.csv'\n",
    "\n",
    "for component in ['x','y','z']:\n",
    "\n",
    "    nodes_at_level = isax_pipe.sw_forest[component].forest[0].get_nodes_of_level_or_terminal(node_level_depth)\n"
   ]
  },
  {
   "cell_type": "code",
   "execution_count": 8,
   "metadata": {},
   "outputs": [
    {
     "data": {
      "text/plain": [
       "['/2018/omni_hro_1min_20180101_v01.cdf',\n",
       " '/2018/omni_hro_1min_20180201_v01.cdf']"
      ]
     },
     "execution_count": 8,
     "metadata": {},
     "output_type": "execute_result"
    }
   ],
   "source": [
    "bad_files"
   ]
  },
  {
   "cell_type": "code",
   "execution_count": 28,
   "metadata": {},
   "outputs": [
    {
     "data": {
      "text/plain": [
       "{'x': <pyCFOFiSAX._forest_iSAX.ForestISAX at 0x21d3ea39b10>,\n",
       " 'y': <pyCFOFiSAX._forest_iSAX.ForestISAX at 0x21d3ea3a310>,\n",
       " 'z': <pyCFOFiSAX._forest_iSAX.ForestISAX at 0x21d3ea3b6d0>,\n",
       " 'all': None}"
      ]
     },
     "execution_count": 28,
     "metadata": {},
     "output_type": "execute_result"
    }
   ],
   "source": [
    "isax_pipe.sw_forest"
   ]
  },
  {
   "cell_type": "code",
   "execution_count": 9,
   "metadata": {},
   "outputs": [
    {
     "name": "stderr",
     "output_type": "stream",
     "text": [
      "c:\\Users\\rokka\\anaconda3\\envs\\idea-isax-sw\\Lib\\site-packages\\tslearn\\piecewise\\piecewise.py:152: RuntimeWarning: Mean of empty slice.\n",
      "  X_transformed[i_ts, i_seg, :] = segment.mean(axis=0)\n",
      "c:\\Users\\rokka\\anaconda3\\envs\\idea-isax-sw\\Lib\\site-packages\\numpy\\core\\_methods.py:184: RuntimeWarning: invalid value encountered in divide\n",
      "  ret = um.true_divide(\n",
      "c:\\Users\\rokka\\anaconda3\\envs\\idea-isax-sw\\Lib\\site-packages\\tslearn\\piecewise\\piecewise.py:152: RuntimeWarning: Mean of empty slice.\n",
      "  X_transformed[i_ts, i_seg, :] = segment.mean(axis=0)\n",
      "c:\\Users\\rokka\\anaconda3\\envs\\idea-isax-sw\\Lib\\site-packages\\numpy\\core\\_methods.py:184: RuntimeWarning: invalid value encountered in divide\n",
      "  ret = um.true_divide(\n",
      "c:\\Users\\rokka\\anaconda3\\envs\\idea-isax-sw\\Lib\\site-packages\\tslearn\\piecewise\\piecewise.py:152: RuntimeWarning: Mean of empty slice.\n",
      "  X_transformed[i_ts, i_seg, :] = segment.mean(axis=0)\n",
      "c:\\Users\\rokka\\anaconda3\\envs\\idea-isax-sw\\Lib\\site-packages\\numpy\\core\\_methods.py:184: RuntimeWarning: invalid value encountered in divide\n",
      "  ret = um.true_divide(\n"
     ]
    },
    {
     "ename": "type",
     "evalue": "setting an array element with a sequence. The requested array has an inhomogeneous shape after 1 dimensions. The detected shape was (2,) + inhomogeneous part.",
     "output_type": "error",
     "traceback": [
      "\u001b[1;31m---------------------------------------------------------------------------\u001b[0m",
      "\u001b[1;31mValueError\u001b[0m                                Traceback (most recent call last)",
      "\u001b[1;32mc:\\Users\\rokka\\GH-repos\\idea-lab-sw-isax\\notebooks\\omni_experiment_pipeline.ipynb Cell 12\u001b[0m line \u001b[0;36m1\n\u001b[1;32m----> <a href='vscode-notebook-cell:/c%3A/Users/rokka/GH-repos/idea-lab-sw-isax/notebooks/omni_experiment_pipeline.ipynb#X21sZmlsZQ%3D%3D?line=0'>1</a>\u001b[0m isax_pipe\u001b[39m.\u001b[39;49mrun_pipeline(\n\u001b[0;32m      <a href='vscode-notebook-cell:/c%3A/Users/rokka/GH-repos/idea-lab-sw-isax/notebooks/omni_experiment_pipeline.ipynb#X21sZmlsZQ%3D%3D?line=1'>2</a>\u001b[0m             flist\u001b[39m=\u001b[39;49m[file],\n\u001b[0;32m      <a href='vscode-notebook-cell:/c%3A/Users/rokka/GH-repos/idea-lab-sw-isax/notebooks/omni_experiment_pipeline.ipynb#X21sZmlsZQ%3D%3D?line=2'>3</a>\u001b[0m             cadence\u001b[39m=\u001b[39;49mcadence,\n\u001b[0;32m      <a href='vscode-notebook-cell:/c%3A/Users/rokka/GH-repos/idea-lab-sw-isax/notebooks/omni_experiment_pipeline.ipynb#X21sZmlsZQ%3D%3D?line=3'>4</a>\u001b[0m             chunk_size\u001b[39m=\u001b[39;49mchunk_size,\n\u001b[0;32m      <a href='vscode-notebook-cell:/c%3A/Users/rokka/GH-repos/idea-lab-sw-isax/notebooks/omni_experiment_pipeline.ipynb#X21sZmlsZQ%3D%3D?line=4'>5</a>\u001b[0m             overlap \u001b[39m=\u001b[39;49m overlap,\n\u001b[0;32m      <a href='vscode-notebook-cell:/c%3A/Users/rokka/GH-repos/idea-lab-sw-isax/notebooks/omni_experiment_pipeline.ipynb#X21sZmlsZQ%3D%3D?line=5'>6</a>\u001b[0m             rads_norm\u001b[39m=\u001b[39;49m\u001b[39mTrue\u001b[39;49;00m,\n\u001b[0;32m      <a href='vscode-notebook-cell:/c%3A/Users/rokka/GH-repos/idea-lab-sw-isax/notebooks/omni_experiment_pipeline.ipynb#X21sZmlsZQ%3D%3D?line=6'>7</a>\u001b[0m             smooth\u001b[39m=\u001b[39;49m\u001b[39mTrue\u001b[39;49;00m,\n\u001b[0;32m      <a href='vscode-notebook-cell:/c%3A/Users/rokka/GH-repos/idea-lab-sw-isax/notebooks/omni_experiment_pipeline.ipynb#X21sZmlsZQ%3D%3D?line=7'>8</a>\u001b[0m             smooth_window\u001b[39m=\u001b[39;49msmooth_window,\n\u001b[0;32m      <a href='vscode-notebook-cell:/c%3A/Users/rokka/GH-repos/idea-lab-sw-isax/notebooks/omni_experiment_pipeline.ipynb#X21sZmlsZQ%3D%3D?line=8'>9</a>\u001b[0m             detrend\u001b[39m=\u001b[39;49m\u001b[39mTrue\u001b[39;49;00m,\n\u001b[0;32m     <a href='vscode-notebook-cell:/c%3A/Users/rokka/GH-repos/idea-lab-sw-isax/notebooks/omni_experiment_pipeline.ipynb#X21sZmlsZQ%3D%3D?line=9'>10</a>\u001b[0m             detrend_window\u001b[39m=\u001b[39;49mdetrend_window,\n\u001b[0;32m     <a href='vscode-notebook-cell:/c%3A/Users/rokka/GH-repos/idea-lab-sw-isax/notebooks/omni_experiment_pipeline.ipynb#X21sZmlsZQ%3D%3D?line=10'>11</a>\u001b[0m             optimized\u001b[39m=\u001b[39;49m\u001b[39mTrue\u001b[39;49;00m,\n\u001b[0;32m     <a href='vscode-notebook-cell:/c%3A/Users/rokka/GH-repos/idea-lab-sw-isax/notebooks/omni_experiment_pipeline.ipynb#X21sZmlsZQ%3D%3D?line=11'>12</a>\u001b[0m             cache_folder\u001b[39m=\u001b[39;49mcache_folder,\n\u001b[0;32m     <a href='vscode-notebook-cell:/c%3A/Users/rokka/GH-repos/idea-lab-sw-isax/notebooks/omni_experiment_pipeline.ipynb#X21sZmlsZQ%3D%3D?line=12'>13</a>\u001b[0m             cache\u001b[39m=\u001b[39;49mcache,\n\u001b[0;32m     <a href='vscode-notebook-cell:/c%3A/Users/rokka/GH-repos/idea-lab-sw-isax/notebooks/omni_experiment_pipeline.ipynb#X21sZmlsZQ%3D%3D?line=13'>14</a>\u001b[0m             instrument\u001b[39m=\u001b[39;49minstrument\n\u001b[0;32m     <a href='vscode-notebook-cell:/c%3A/Users/rokka/GH-repos/idea-lab-sw-isax/notebooks/omni_experiment_pipeline.ipynb#X21sZmlsZQ%3D%3D?line=14'>15</a>\u001b[0m         )\n",
      "File \u001b[1;32m~\\GH-repos\\idea-lab-sw-isax\\fdl21\\isax_model.py:1028\u001b[0m, in \u001b[0;36miSaxPipeline.run_pipeline\u001b[1;34m(self, flist, cadence, chunk_size, overlap, rads_norm, smooth, smooth_window, detrend, detrend_window, optimized, parallel, cache, cache_folder, instrument)\u001b[0m\n\u001b[0;32m   1024\u001b[0m     \u001b[39mfor\u001b[39;00m component \u001b[39min\u001b[39;00m [\u001b[39m'\u001b[39m\u001b[39mx\u001b[39m\u001b[39m'\u001b[39m, \u001b[39m'\u001b[39m\u001b[39my\u001b[39m\u001b[39m'\u001b[39m, \u001b[39m'\u001b[39m\u001b[39mz\u001b[39m\u001b[39m'\u001b[39m]:\n\u001b[0;32m   1025\u001b[0m         computations\u001b[39m.\u001b[39mappend(\n\u001b[0;32m   1026\u001b[0m             dask\u001b[39m.\u001b[39mdelayed(\u001b[39mself\u001b[39m\u001b[39m.\u001b[39mgenerate_nodes)(save\u001b[39m=\u001b[39m\u001b[39mFalse\u001b[39;00m, component\u001b[39m=\u001b[39mcomponent)\n\u001b[0;32m   1027\u001b[0m         )\n\u001b[1;32m-> 1028\u001b[0m     dask\u001b[39m.\u001b[39;49mcompute(\u001b[39m*\u001b[39;49mcomputations, n_workers\u001b[39m=\u001b[39;49mos\u001b[39m.\u001b[39;49mcpu_count()\u001b[39m/\u001b[39;49m\u001b[39m/\u001b[39;49m\u001b[39m3\u001b[39;49m)\n\u001b[0;32m   1029\u001b[0m \u001b[39melse\u001b[39;00m:\n\u001b[0;32m   1030\u001b[0m     \u001b[39mfor\u001b[39;00m component \u001b[39min\u001b[39;00m [\u001b[39m'\u001b[39m\u001b[39mx\u001b[39m\u001b[39m'\u001b[39m, \u001b[39m'\u001b[39m\u001b[39my\u001b[39m\u001b[39m'\u001b[39m, \u001b[39m'\u001b[39m\u001b[39mz\u001b[39m\u001b[39m'\u001b[39m]:\n",
      "File \u001b[1;32mc:\\Users\\rokka\\anaconda3\\envs\\idea-isax-sw\\Lib\\site-packages\\dask\\threaded.py:89\u001b[0m, in \u001b[0;36mget\u001b[1;34m(dsk, keys, cache, num_workers, pool, **kwargs)\u001b[0m\n\u001b[0;32m     86\u001b[0m     \u001b[39melif\u001b[39;00m \u001b[39misinstance\u001b[39m(pool, multiprocessing\u001b[39m.\u001b[39mpool\u001b[39m.\u001b[39mPool):\n\u001b[0;32m     87\u001b[0m         pool \u001b[39m=\u001b[39m MultiprocessingPoolExecutor(pool)\n\u001b[1;32m---> 89\u001b[0m results \u001b[39m=\u001b[39m get_async(\n\u001b[0;32m     90\u001b[0m     pool\u001b[39m.\u001b[39;49msubmit,\n\u001b[0;32m     91\u001b[0m     pool\u001b[39m.\u001b[39;49m_max_workers,\n\u001b[0;32m     92\u001b[0m     dsk,\n\u001b[0;32m     93\u001b[0m     keys,\n\u001b[0;32m     94\u001b[0m     cache\u001b[39m=\u001b[39;49mcache,\n\u001b[0;32m     95\u001b[0m     get_id\u001b[39m=\u001b[39;49m_thread_get_id,\n\u001b[0;32m     96\u001b[0m     pack_exception\u001b[39m=\u001b[39;49mpack_exception,\n\u001b[0;32m     97\u001b[0m     \u001b[39m*\u001b[39;49m\u001b[39m*\u001b[39;49mkwargs,\n\u001b[0;32m     98\u001b[0m )\n\u001b[0;32m    100\u001b[0m \u001b[39m# Cleanup pools associated to dead threads\u001b[39;00m\n\u001b[0;32m    101\u001b[0m \u001b[39mwith\u001b[39;00m pools_lock:\n",
      "File \u001b[1;32mc:\\Users\\rokka\\anaconda3\\envs\\idea-isax-sw\\Lib\\site-packages\\dask\\local.py:511\u001b[0m, in \u001b[0;36mget_async\u001b[1;34m(submit, num_workers, dsk, result, cache, get_id, rerun_exceptions_locally, pack_exception, raise_exception, callbacks, dumps, loads, chunksize, **kwargs)\u001b[0m\n\u001b[0;32m    509\u001b[0m         _execute_task(task, data)  \u001b[39m# Re-execute locally\u001b[39;00m\n\u001b[0;32m    510\u001b[0m     \u001b[39melse\u001b[39;00m:\n\u001b[1;32m--> 511\u001b[0m         raise_exception(exc, tb)\n\u001b[0;32m    512\u001b[0m res, worker_id \u001b[39m=\u001b[39m loads(res_info)\n\u001b[0;32m    513\u001b[0m state[\u001b[39m\"\u001b[39m\u001b[39mcache\u001b[39m\u001b[39m\"\u001b[39m][key] \u001b[39m=\u001b[39m res\n",
      "File \u001b[1;32mc:\\Users\\rokka\\anaconda3\\envs\\idea-isax-sw\\Lib\\site-packages\\dask\\local.py:319\u001b[0m, in \u001b[0;36mreraise\u001b[1;34m(exc, tb)\u001b[0m\n\u001b[0;32m    317\u001b[0m \u001b[39mif\u001b[39;00m exc\u001b[39m.\u001b[39m__traceback__ \u001b[39mis\u001b[39;00m \u001b[39mnot\u001b[39;00m tb:\n\u001b[0;32m    318\u001b[0m     \u001b[39mraise\u001b[39;00m exc\u001b[39m.\u001b[39mwith_traceback(tb)\n\u001b[1;32m--> 319\u001b[0m \u001b[39mraise\u001b[39;00m exc\n",
      "File \u001b[1;32mc:\\Users\\rokka\\anaconda3\\envs\\idea-isax-sw\\Lib\\site-packages\\dask\\local.py:224\u001b[0m, in \u001b[0;36mexecute_task\u001b[1;34m(key, task_info, dumps, loads, get_id, pack_exception)\u001b[0m\n\u001b[0;32m    222\u001b[0m \u001b[39mtry\u001b[39;00m:\n\u001b[0;32m    223\u001b[0m     task, data \u001b[39m=\u001b[39m loads(task_info)\n\u001b[1;32m--> 224\u001b[0m     result \u001b[39m=\u001b[39m _execute_task(task, data)\n\u001b[0;32m    225\u001b[0m     \u001b[39mid\u001b[39m \u001b[39m=\u001b[39m get_id()\n\u001b[0;32m    226\u001b[0m     result \u001b[39m=\u001b[39m dumps((result, \u001b[39mid\u001b[39m))\n",
      "File \u001b[1;32m~\\GH-repos\\idea-lab-sw-isax\\fdl21\\isax_model.py:667\u001b[0m, in \u001b[0;36miSaxPipeline.generate_nodes\u001b[1;34m(self, component, save)\u001b[0m\n\u001b[0;32m    655\u001b[0m     \u001b[39mself\u001b[39m\u001b[39m.\u001b[39msw_forest[component] \u001b[39m=\u001b[39m ForestISAX(\n\u001b[0;32m    656\u001b[0m         size_word\u001b[39m=\u001b[39m\u001b[39mself\u001b[39m\u001b[39m.\u001b[39mword_size,\n\u001b[0;32m    657\u001b[0m         threshold\u001b[39m=\u001b[39m\u001b[39mself\u001b[39m\u001b[39m.\u001b[39mthreshold,\n\u001b[1;32m   (...)\u001b[0m\n\u001b[0;32m    663\u001b[0m         sig\u001b[39m=\u001b[39m\u001b[39mself\u001b[39m\u001b[39m.\u001b[39mstd[component]\n\u001b[0;32m    664\u001b[0m     )\n\u001b[0;32m    666\u001b[0m \u001b[39m# Build the index\u001b[39;00m\n\u001b[1;32m--> 667\u001b[0m \u001b[39mself\u001b[39;49m\u001b[39m.\u001b[39;49msw_forest[component]\u001b[39m.\u001b[39;49mindex_data(\n\u001b[0;32m    668\u001b[0m     \u001b[39mself\u001b[39;49m\u001b[39m.\u001b[39;49mts[component], \n\u001b[0;32m    669\u001b[0m     annotation\u001b[39m=\u001b[39;49m\u001b[39mself\u001b[39;49m\u001b[39m.\u001b[39;49mts_loc[component]\n\u001b[0;32m    670\u001b[0m )\n\u001b[0;32m    672\u001b[0m \u001b[39mif\u001b[39;00m save: \n\u001b[0;32m    673\u001b[0m     DotExporter(\u001b[39mself\u001b[39m\u001b[39m.\u001b[39msw_forest\u001b[39m.\u001b[39mforest[\u001b[39m0\u001b[39m]\u001b[39m.\u001b[39mroot)\u001b[39m.\u001b[39mto_picture(\u001b[39m\"\u001b[39m\u001b[39misax_testing.png\u001b[39m\u001b[39m\"\u001b[39m)\n",
      "File \u001b[1;32m~\\GH-repos\\idea-lab-sw-isax\\pyCFOFiSAX\\_forest_iSAX.py:159\u001b[0m, in \u001b[0;36mForestISAX.index_data\u001b[1;34m(self, new_sequences, annotation, parallel)\u001b[0m\n\u001b[0;32m    156\u001b[0m             \u001b[39mfor\u001b[39;00m key, value \u001b[39min\u001b[39;00m annotation\u001b[39m.\u001b[39mitems():\n\u001b[0;32m    157\u001b[0m                 entry[key] \u001b[39m=\u001b[39m value[j]\n\u001b[1;32m--> 159\u001b[0m         tree\u001b[39m.\u001b[39;49minsert_paa(npa_tp, annotation\u001b[39m=\u001b[39;49mentry, parallel\u001b[39m=\u001b[39;49mparallel)\n\u001b[0;32m    160\u001b[0m         cmpt_insert[i] \u001b[39m+\u001b[39m\u001b[39m=\u001b[39m \u001b[39m1\u001b[39m\n\u001b[0;32m    162\u001b[0m \u001b[39m# Returns array[tree_index] with the number of inserted objects for each tree\u001b[39;00m\n",
      "File \u001b[1;32m~\\GH-repos\\idea-lab-sw-isax\\pyCFOFiSAX\\_tree_iSAX.py:295\u001b[0m, in \u001b[0;36mTreeISAX.insert_paa\u001b[1;34m(self, new_paa, annotation, parallel)\u001b[0m\n\u001b[0;32m    293\u001b[0m     \u001b[39mprint\u001b[39m(\u001b[39m\"\u001b[39m\u001b[39mError !! \u001b[39m\u001b[39m\"\u001b[39m\u001b[39m+\u001b[39mnew_paa\u001b[39m+\u001b[39m\u001b[39m\"\u001b[39m\u001b[39m is smaller than size.word = \u001b[39m\u001b[39m\"\u001b[39m\u001b[39m+\u001b[39m\u001b[39mself\u001b[39m\u001b[39m.\u001b[39msize_word\u001b[39m+\u001b[39m\u001b[39m\"\u001b[39m\u001b[39m. FIN\u001b[39m\u001b[39m\"\u001b[39m)\n\u001b[0;32m    294\u001b[0m \u001b[39melse\u001b[39;00m:\n\u001b[1;32m--> 295\u001b[0m     \u001b[39mself\u001b[39;49m\u001b[39m.\u001b[39;49mroot\u001b[39m.\u001b[39;49minsert_paa(new_paa, annotation\u001b[39m=\u001b[39;49mannotation, parallel\u001b[39m=\u001b[39;49mparallel)\n\u001b[0;32m    296\u001b[0m     \u001b[39mself\u001b[39m\u001b[39m.\u001b[39m_new_insertion_after_preproc \u001b[39m=\u001b[39m \u001b[39mTrue\u001b[39;00m\n\u001b[0;32m    297\u001b[0m     \u001b[39mself\u001b[39m\u001b[39m.\u001b[39m_new_insertion_after_minmax_nodes \u001b[39m=\u001b[39m \u001b[39mTrue\u001b[39;00m\n",
      "File \u001b[1;32m~\\GH-repos\\idea-lab-sw-isax\\pyCFOFiSAX\\_node.py:138\u001b[0m, in \u001b[0;36mRootNode.insert_paa\u001b[1;34m(self, new_paa, annotation, parallel)\u001b[0m\n\u001b[0;32m    134\u001b[0m         current_node\u001b[39m.\u001b[39minsert_paa(new_paa, annotation\u001b[39m=\u001b[39mannotation, parallel\u001b[39m=\u001b[39mparallel)\n\u001b[0;32m    136\u001b[0m \u001b[39m# Otherwise (the Sax node does not exist) we create a new leaf\u001b[39;00m\n\u001b[0;32m    137\u001b[0m \u001b[39melse\u001b[39;00m:\n\u001b[1;32m--> 138\u001b[0m     new_node \u001b[39m=\u001b[39m TerminalNode(\u001b[39mself\u001b[39;49m\u001b[39m.\u001b[39;49mtree, \u001b[39mself\u001b[39;49m, [i[\u001b[39m0\u001b[39;49m] \u001b[39mfor\u001b[39;49;00m i \u001b[39min\u001b[39;49;00m i_sax_word], np_array(\u001b[39mself\u001b[39;49m\u001b[39m.\u001b[39;49mcardinality_next))\n\u001b[0;32m    139\u001b[0m     new_node\u001b[39m.\u001b[39minsert_paa(new_paa, annotation\u001b[39m=\u001b[39mannotation)\n\u001b[0;32m    140\u001b[0m     \u001b[39mself\u001b[39m\u001b[39m.\u001b[39mkey_nodes[\u001b[39mstr\u001b[39m([i[\u001b[39m0\u001b[39m] \u001b[39mfor\u001b[39;00m i \u001b[39min\u001b[39;00m i_sax_word])] \u001b[39m=\u001b[39m new_node\n",
      "File \u001b[1;32m~\\GH-repos\\idea-lab-sw-isax\\pyCFOFiSAX\\_node.py:433\u001b[0m, in \u001b[0;36mTerminalNode.__init__\u001b[1;34m(self, tree, parent, sax, cardinality)\u001b[0m\n\u001b[0;32m    425\u001b[0m \u001b[39mdef\u001b[39;00m \u001b[39m__init__\u001b[39m(\u001b[39mself\u001b[39m, tree, parent, sax, cardinality):\n\u001b[0;32m    426\u001b[0m \u001b[39m    \u001b[39m\u001b[39m\"\"\"\u001b[39;00m\n\u001b[0;32m    427\u001b[0m \u001b[39m    Initialization function of the terminalnode class\u001b[39;00m\n\u001b[0;32m    428\u001b[0m \n\u001b[0;32m    429\u001b[0m \u001b[39m    :returns: a root node\u001b[39;00m\n\u001b[0;32m    430\u001b[0m \u001b[39m    :rtype: RootNode\u001b[39;00m\n\u001b[0;32m    431\u001b[0m \u001b[39m    \"\"\"\u001b[39;00m\n\u001b[1;32m--> 433\u001b[0m     RootNode\u001b[39m.\u001b[39;49m\u001b[39m__init__\u001b[39;49m(\u001b[39mself\u001b[39;49m, tree\u001b[39m=\u001b[39;49mtree, parent\u001b[39m=\u001b[39;49mparent,\n\u001b[0;32m    434\u001b[0m                       sax\u001b[39m=\u001b[39;49msax, cardinality\u001b[39m=\u001b[39;49mcardinality)\n\u001b[0;32m    436\u001b[0m     \u001b[39mdel\u001b[39;00m \u001b[39mself\u001b[39m\u001b[39m.\u001b[39mcardinality_next\n\u001b[0;32m    438\u001b[0m \u001b[39m    \u001b[39m\u001b[39m\"\"\" Specific part of terminal nodes\u001b[39;00m\n\u001b[0;32m    439\u001b[0m \u001b[39m    (What? We say terminal nodes?) \"\"\"\u001b[39;00m\n",
      "File \u001b[1;32m~\\GH-repos\\idea-lab-sw-isax\\pyCFOFiSAX\\_node.py:48\u001b[0m, in \u001b[0;36mRootNode.__init__\u001b[1;34m(self, tree, parent, sax, cardinality)\u001b[0m\n\u001b[0;32m     44\u001b[0m         \u001b[39mself\u001b[39m\u001b[39m.\u001b[39miSAX_word_small \u001b[39m+\u001b[39m\u001b[39m=\u001b[39m \u001b[39m'\u001b[39m\u001b[39m_\u001b[39m\u001b[39m'\u001b[39m\n\u001b[0;32m     46\u001b[0m     \u001b[39mself\u001b[39m\u001b[39m.\u001b[39miSAX_word_small \u001b[39m=\u001b[39m \u001b[39mself\u001b[39m\u001b[39m.\u001b[39miSAX_word_small \u001b[39m+\u001b[39m \u001b[39mstr\u001b[39m(sax[i]) \u001b[39m+\u001b[39m \u001b[39m'\u001b[39m\u001b[39m.\u001b[39m\u001b[39m'\u001b[39m \u001b[39m+\u001b[39m \u001b[39mstr\u001b[39m(cardinality[i])\n\u001b[1;32m---> 48\u001b[0m \u001b[39mself\u001b[39m\u001b[39m.\u001b[39miSAX_word \u001b[39m=\u001b[39m np_array([sax, cardinality])\u001b[39m.\u001b[39mT\n\u001b[0;32m     50\u001b[0m Node\u001b[39m.\u001b[39m\u001b[39m__init__\u001b[39m(\u001b[39mself\u001b[39m, parent\u001b[39m=\u001b[39mparent, name\u001b[39m=\u001b[39m\u001b[39mstr\u001b[39m(\u001b[39mself\u001b[39m\u001b[39m.\u001b[39miSAX_word))\n\u001b[0;32m     52\u001b[0m \u001b[39mself\u001b[39m\u001b[39m.\u001b[39mtree \u001b[39m=\u001b[39m tree\n",
      "\u001b[1;31mValueError\u001b[0m: setting an array element with a sequence. The requested array has an inhomogeneous shape after 1 dimensions. The detected shape was (2,) + inhomogeneous part."
     ]
    }
   ],
   "source": [
    "isax_pipe.run_pipeline(\n",
    "            flist=[file],\n",
    "            cadence=cadence,\n",
    "            chunk_size=chunk_size,\n",
    "            overlap = overlap,\n",
    "            rads_norm=True,\n",
    "            smooth=True,\n",
    "            smooth_window=smooth_window,\n",
    "            detrend=True,\n",
    "            detrend_window=detrend_window,\n",
    "            optimized=True,\n",
    "            cache_folder=cache_folder,\n",
    "            cache=cache,\n",
    "            instrument=instrument\n",
    "        )"
   ]
  },
  {
   "cell_type": "markdown",
   "metadata": {},
   "source": [
    "# Full test of `run_experiment()`"
   ]
  },
  {
   "cell_type": "code",
   "execution_count": 26,
   "metadata": {},
   "outputs": [],
   "source": [
    "import os\n",
    "os.chdir('C:/Users/rokka/GH-repos/idea-lab-sw-isax')\n",
    "\n",
    "import glob\n",
    "import datetime as dt\n",
    "import numpy as np\n",
    "from tqdm import tqdm\n",
    "\n",
    "# import local libraries\n",
    "import fdl21.data.prototyping_metrics as pm\n",
    "import fdl21.data.generate_catalog as gc\n",
    "from fdl21 import isax_model\n",
    "from fdl21.experiments import run_isax_experiments_sf as isax_exp_sf\n",
    "\n",
    "#catalog_fname = 'data/omni_master_catalog_1995_2019.csv'"
   ]
  },
  {
   "cell_type": "code",
   "execution_count": 27,
   "metadata": {},
   "outputs": [],
   "source": [
    "# isax_exp_sf.run_experiment(input_file= None,                   #if None, cut of catalog is used\n",
    "#                            start_date= dt.datetime(2018, 1, 1),  # start date of catalog cut\n",
    "#                            stop_date= dt.datetime(2018, 1, 2),   # end date of catalog cut\n",
    "#                            cadence=dt.timedelta(seconds=60),\n",
    "#                            cache=True,\n",
    "#                            instrument='omni')"
   ]
  }
 ],
 "metadata": {
  "kernelspec": {
   "display_name": "idea-isax-sw",
   "language": "python",
   "name": "python3"
  },
  "language_info": {
   "codemirror_mode": {
    "name": "ipython",
    "version": 3
   },
   "file_extension": ".py",
   "mimetype": "text/x-python",
   "name": "python",
   "nbconvert_exporter": "python",
   "pygments_lexer": "ipython3",
   "version": "3.11.4"
  },
  "orig_nbformat": 4
 },
 "nbformat": 4,
 "nbformat_minor": 2
}
