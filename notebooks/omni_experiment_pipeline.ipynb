{
 "cells": [
  {
   "cell_type": "code",
   "execution_count": 1,
   "metadata": {},
   "outputs": [
    {
     "name": "stderr",
     "output_type": "stream",
     "text": [
      "ERROR [jupyter:notebook_metadata:224] Failed to detect the name of this notebook, you can set it manually with the WANDB_NOTEBOOK_NAME environment variable to enable code saving.\n",
      "\u001b[34m\u001b[1mwandb\u001b[0m: Currently logged in as: \u001b[33mjasmine-kobayashi\u001b[0m (\u001b[33midea-lab\u001b[0m). Use \u001b[1m`wandb login --relogin`\u001b[0m to force relogin\n"
     ]
    }
   ],
   "source": [
    "import os\n",
    "os.chdir('C:/Users/rokka/GH-repos/idea-lab-sw-isax')\n",
    "\n",
    "import glob\n",
    "import datetime as dt\n",
    "import numpy as np\n",
    "from tqdm import tqdm\n",
    "\n",
    "# import local libraries\n",
    "import fdl21.data.prototyping_metrics as pm\n",
    "import fdl21.data.generate_catalog as gc\n",
    "from fdl21 import isax_model\n",
    "from fdl21.experiments import run_isax_experiments_sf as isax_exp_sf\n",
    "\n",
    "#catalog_fname = 'data/omni_master_catalog_1995_2019.csv'"
   ]
  },
  {
   "cell_type": "code",
   "execution_count": 2,
   "metadata": {},
   "outputs": [
    {
     "name": "stderr",
     "output_type": "stream",
     "text": [
      "INFO [run_isax_experiments_sf:run_experiment:645] Found 1 between 2018-01-01 00:00:00 2018-01-02 00:00:00\n"
     ]
    },
    {
     "name": "stderr",
     "output_type": "stream",
     "text": [
      "Creating file caches and histograms...:   0%|          | 0/1 [00:00<?, ?it/s]INFO [isax_model:build_cache:865] Loading cached file...\n",
      "c:\\Users\\rokka\\anaconda3\\envs\\idea-isax-sw\\Lib\\site-packages\\tslearn\\piecewise\\piecewise.py:152: RuntimeWarning: Mean of empty slice.\n",
      "  X_transformed[i_ts, i_seg, :] = segment.mean(axis=0)\n",
      "c:\\Users\\rokka\\anaconda3\\envs\\idea-isax-sw\\Lib\\site-packages\\numpy\\core\\_methods.py:184: RuntimeWarning: invalid value encountered in divide\n",
      "  ret = um.true_divide(\n",
      "c:\\Users\\rokka\\anaconda3\\envs\\idea-isax-sw\\Lib\\site-packages\\tslearn\\piecewise\\piecewise.py:152: RuntimeWarning: Mean of empty slice.\n",
      "  X_transformed[i_ts, i_seg, :] = segment.mean(axis=0)\n",
      "c:\\Users\\rokka\\anaconda3\\envs\\idea-isax-sw\\Lib\\site-packages\\numpy\\core\\_methods.py:184: RuntimeWarning: invalid value encountered in divide\n",
      "  ret = um.true_divide(\n",
      "c:\\Users\\rokka\\anaconda3\\envs\\idea-isax-sw\\Lib\\site-packages\\tslearn\\piecewise\\piecewise.py:152: RuntimeWarning: Mean of empty slice.\n",
      "  X_transformed[i_ts, i_seg, :] = segment.mean(axis=0)\n",
      "c:\\Users\\rokka\\anaconda3\\envs\\idea-isax-sw\\Lib\\site-packages\\numpy\\core\\_methods.py:184: RuntimeWarning: invalid value encountered in divide\n",
      "  ret = um.true_divide(\n",
      "Creating file caches and histograms...: 100%|██████████| 1/1 [00:08<00:00,  8.39s/it]\n",
      "INFO [run_isax_experiments_sf:run_experiment:712] Recalculating mean and standard deviations.\n",
      "C:\\Users\\rokka\\GH-repos\\idea-lab-sw-isax\\fdl21\\experiments\\run_isax_experiments_sf.py:718: RuntimeWarning: invalid value encountered in scalar divide\n",
      "  mu = np.sum(centers*hist*delta)/np.sum(hist*delta)\n",
      "INFO [run_isax_experiments_sf:run_experiment:726] mu = nan and sig=nan for x component\n",
      "INFO [run_isax_experiments_sf:run_experiment:726] mu = nan and sig=nan for y component\n",
      "INFO [run_isax_experiments_sf:run_experiment:726] mu = nan and sig=nan for z component\n",
      "Running pipeline...:   0%|          | 0/1 [00:00<?, ?it/s]c:\\Users\\rokka\\anaconda3\\envs\\idea-isax-sw\\Lib\\site-packages\\tslearn\\piecewise\\piecewise.py:152: RuntimeWarning: Mean of empty slice.\n",
      "  X_transformed[i_ts, i_seg, :] = segment.mean(axis=0)\n",
      "c:\\Users\\rokka\\anaconda3\\envs\\idea-isax-sw\\Lib\\site-packages\\numpy\\core\\_methods.py:184: RuntimeWarning: invalid value encountered in divide\n",
      "  ret = um.true_divide(\n",
      "c:\\Users\\rokka\\anaconda3\\envs\\idea-isax-sw\\Lib\\site-packages\\tslearn\\piecewise\\piecewise.py:152: RuntimeWarning: Mean of empty slice.\n",
      "  X_transformed[i_ts, i_seg, :] = segment.mean(axis=0)\n",
      "c:\\Users\\rokka\\anaconda3\\envs\\idea-isax-sw\\Lib\\site-packages\\tslearn\\piecewise\\piecewise.py:152: RuntimeWarning: Mean of empty slice.\n",
      "  X_transformed[i_ts, i_seg, :] = segment.mean(axis=0)\n",
      "c:\\Users\\rokka\\anaconda3\\envs\\idea-isax-sw\\Lib\\site-packages\\numpy\\core\\_methods.py:184: RuntimeWarning: invalid value encountered in divide\n",
      "  ret = um.true_divide(\n",
      "Running pipeline...: 100%|██████████| 1/1 [00:13<00:00, 13.62s/it]\n",
      "INFO [run_isax_experiments_sf:run_experiment:782] Getting nodes for files\n",
      "INFO [isax_model:save:731] Saving input parameters to following output file,\n",
      "runs/CS300_C60_SW2_DW1800_O0_omni_WS10_CA8_32_MCS5_MS5_T200_NLD2_CSENA.json\n",
      "------------------------------------------------------------\n",
      "INFO [run_isax_experiments_sf:cluster_function:244] Running clustering of nodes...\n"
     ]
    },
    {
     "name": "stdout",
     "output_type": "stream",
     "text": [
      "Bad Files------------------------------------------------------------\n",
      "['/2018/omni_hro_1min_20180101_v01.cdf']\n",
      "------------------------------------------------------------\n"
     ]
    },
    {
     "name": "stderr",
     "output_type": "stream",
     "text": [
      "Calculating distance matrix...: 0it [00:00, ?it/s]\n",
      "c:\\Users\\rokka\\anaconda3\\envs\\idea-isax-sw\\Lib\\site-packages\\tslearn\\piecewise\\piecewise.py:152: RuntimeWarning: Mean of empty slice.\n",
      "  X_transformed[i_ts, i_seg, :] = segment.mean(axis=0)\n",
      "c:\\Users\\rokka\\anaconda3\\envs\\idea-isax-sw\\Lib\\site-packages\\numpy\\core\\_methods.py:184: RuntimeWarning: invalid value encountered in divide\n",
      "  ret = um.true_divide(\n"
     ]
    },
    {
     "ename": "type",
     "evalue": "Found array with 0 sample(s) (shape=(0, 0)) while a minimum of 1 is required.",
     "output_type": "error",
     "traceback": [
      "\u001b[1;31m---------------------------------------------------------------------------\u001b[0m",
      "\u001b[1;31mValueError\u001b[0m                                Traceback (most recent call last)",
      "\u001b[1;32mc:\\Users\\rokka\\GH-repos\\idea-lab-sw-isax\\notebooks\\omni_experiment_pipeline.ipynb Cell 2\u001b[0m line \u001b[0;36m1\n\u001b[1;32m----> <a href='vscode-notebook-cell:/c%3A/Users/rokka/GH-repos/idea-lab-sw-isax/notebooks/omni_experiment_pipeline.ipynb#W1sZmlsZQ%3D%3D?line=0'>1</a>\u001b[0m isax_exp_sf\u001b[39m.\u001b[39;49mrun_experiment(input_file\u001b[39m=\u001b[39;49m \u001b[39mNone\u001b[39;49;00m,                   \u001b[39m#if None, cut of catalog is used\u001b[39;49;00m\n\u001b[0;32m      <a href='vscode-notebook-cell:/c%3A/Users/rokka/GH-repos/idea-lab-sw-isax/notebooks/omni_experiment_pipeline.ipynb#W1sZmlsZQ%3D%3D?line=1'>2</a>\u001b[0m                            start_date\u001b[39m=\u001b[39;49m dt\u001b[39m.\u001b[39;49mdatetime(\u001b[39m2018\u001b[39;49m, \u001b[39m1\u001b[39;49m, \u001b[39m1\u001b[39;49m),  \u001b[39m# start date of catalog cut\u001b[39;49;00m\n\u001b[0;32m      <a href='vscode-notebook-cell:/c%3A/Users/rokka/GH-repos/idea-lab-sw-isax/notebooks/omni_experiment_pipeline.ipynb#W1sZmlsZQ%3D%3D?line=2'>3</a>\u001b[0m                            stop_date\u001b[39m=\u001b[39;49m dt\u001b[39m.\u001b[39;49mdatetime(\u001b[39m2018\u001b[39;49m, \u001b[39m1\u001b[39;49m, \u001b[39m2\u001b[39;49m),   \u001b[39m# end date of catalog cut\u001b[39;49;00m\n\u001b[0;32m      <a href='vscode-notebook-cell:/c%3A/Users/rokka/GH-repos/idea-lab-sw-isax/notebooks/omni_experiment_pipeline.ipynb#W1sZmlsZQ%3D%3D?line=3'>4</a>\u001b[0m                            cadence\u001b[39m=\u001b[39;49mdt\u001b[39m.\u001b[39;49mtimedelta(seconds\u001b[39m=\u001b[39;49m\u001b[39m60\u001b[39;49m),\n\u001b[0;32m      <a href='vscode-notebook-cell:/c%3A/Users/rokka/GH-repos/idea-lab-sw-isax/notebooks/omni_experiment_pipeline.ipynb#W1sZmlsZQ%3D%3D?line=4'>5</a>\u001b[0m                            cache\u001b[39m=\u001b[39;49m\u001b[39mTrue\u001b[39;49;00m,\n\u001b[0;32m      <a href='vscode-notebook-cell:/c%3A/Users/rokka/GH-repos/idea-lab-sw-isax/notebooks/omni_experiment_pipeline.ipynb#W1sZmlsZQ%3D%3D?line=5'>6</a>\u001b[0m                            instrument\u001b[39m=\u001b[39;49m\u001b[39m'\u001b[39;49m\u001b[39momni\u001b[39;49m\u001b[39m'\u001b[39;49m)\n",
      "File \u001b[1;32m~\\GH-repos\\idea-lab-sw-isax\\fdl21\\experiments\\run_isax_experiments_sf.py:849\u001b[0m, in \u001b[0;36mrun_experiment\u001b[1;34m(input_file, start_date, stop_date, min_cardinality, max_cardinality, word_size, threshold, mu_x, std_x, mu_y, std_y, mu_z, std_z, cadence, chunk_size, smooth_window, detrend_window, node_level_depth, min_node_size, overlap, min_cluster_size, min_samples, cache, cache_folder, transliterate, instrument, cluster_selection_epsilon, plot_nodes, failsafe, n_processes)\u001b[0m\n\u001b[0;32m    846\u001b[0m nodes_at_level \u001b[39m=\u001b[39m isax_pipe\u001b[39m.\u001b[39msw_forest[component]\u001b[39m.\u001b[39mforest[\u001b[39m0\u001b[39m]\u001b[39m.\u001b[39mget_nodes_of_level_or_terminal(node_level_depth)\n\u001b[0;32m    848\u001b[0m \u001b[39m## Clustering\u001b[39;00m\n\u001b[1;32m--> 849\u001b[0m hdbscan_clusters, distance_matrix \u001b[39m=\u001b[39m cluster_function(\n\u001b[0;32m    850\u001b[0m     nodes_at_level,\n\u001b[0;32m    851\u001b[0m     min_cluster_size\u001b[39m=\u001b[39;49mmin_cluster_size,\n\u001b[0;32m    852\u001b[0m     min_samples\u001b[39m=\u001b[39;49mmin_samples,\n\u001b[0;32m    853\u001b[0m     cluster_selection_epsilon\u001b[39m=\u001b[39;49mcluster_selection_epsilon\n\u001b[0;32m    854\u001b[0m )\n\u001b[0;32m    856\u001b[0m pdf_file_n \u001b[39m=\u001b[39m pdf_file \u001b[39m+\u001b[39m \u001b[39m'\u001b[39m\u001b[39m_\u001b[39m\u001b[39m'\u001b[39m \u001b[39m+\u001b[39m \u001b[39mf\u001b[39m\u001b[39m'\u001b[39m\u001b[39m{\u001b[39;00mcomponent\u001b[39m}\u001b[39;00m\u001b[39m'\u001b[39m \u001b[39m+\u001b[39m \u001b[39m'\u001b[39m\u001b[39m_nodes\u001b[39m\u001b[39m'\u001b[39m  \u001b[39m+\u001b[39m \u001b[39m'\u001b[39m\u001b[39m.pdf\u001b[39m\u001b[39m'\u001b[39m\n\u001b[0;32m    857\u001b[0m \u001b[39mif\u001b[39;00m plot_nodes: pdf_n \u001b[39m=\u001b[39m PdfPages(\u001b[39m'\u001b[39m\u001b[39mruns/\u001b[39m\u001b[39m'\u001b[39m \u001b[39m+\u001b[39m pdf_file_n)   \n",
      "File \u001b[1;32m~\\GH-repos\\idea-lab-sw-isax\\fdl21\\experiments\\run_isax_experiments_sf.py:260\u001b[0m, in \u001b[0;36mcluster_function\u001b[1;34m(nodes_at_level, min_cluster_size, min_samples, cluster_selection_epsilon)\u001b[0m\n\u001b[0;32m    257\u001b[0m     LOG\u001b[39m.\u001b[39minfo(\u001b[39mf\u001b[39m\u001b[39m'\u001b[39m\u001b[39mMean distance=\u001b[39m\u001b[39m{\u001b[39;00mnp\u001b[39m.\u001b[39mmedian(distance_matrix\u001b[39m.\u001b[39mreshape(\u001b[39m-\u001b[39m\u001b[39m1\u001b[39m)[distance_matrix\u001b[39m.\u001b[39mreshape(\u001b[39m-\u001b[39m\u001b[39m1\u001b[39m)\u001b[39m>\u001b[39m\u001b[39m0\u001b[39m])\u001b[39m}\u001b[39;00m\u001b[39m, cluster_selection_epsilon=\u001b[39m\u001b[39m{\u001b[39;00mepsilon\u001b[39m}\u001b[39;00m\u001b[39m at \u001b[39m\u001b[39m{\u001b[39;00mcluster_selection_epsilon\u001b[39m}\u001b[39;00m\u001b[39m percentile\u001b[39m\u001b[39m'\u001b[39m)\n\u001b[0;32m    258\u001b[0m     clusterer \u001b[39m=\u001b[39m hdbscan\u001b[39m.\u001b[39mHDBSCAN(metric\u001b[39m=\u001b[39m\u001b[39m'\u001b[39m\u001b[39mprecomputed\u001b[39m\u001b[39m'\u001b[39m, min_cluster_size\u001b[39m=\u001b[39mmin_cluster_size, min_samples\u001b[39m=\u001b[39mmin_samples, cluster_selection_epsilon\u001b[39m=\u001b[39mcluster_selection_epsilon)\n\u001b[1;32m--> 260\u001b[0m clusterer\u001b[39m.\u001b[39;49mfit(distance_matrix)\n\u001b[0;32m    261\u001b[0m \u001b[39mreturn\u001b[39;00m clusterer, distance_matrix\n",
      "File \u001b[1;32mc:\\Users\\rokka\\anaconda3\\envs\\idea-isax-sw\\Lib\\site-packages\\hdbscan\\hdbscan_.py:1189\u001b[0m, in \u001b[0;36mHDBSCAN.fit\u001b[1;34m(self, X, y)\u001b[0m\n\u001b[0;32m   1185\u001b[0m     clean_data \u001b[39m=\u001b[39m X\n\u001b[0;32m   1186\u001b[0m \u001b[39melse\u001b[39;00m:\n\u001b[0;32m   1187\u001b[0m     \u001b[39m# Only non-sparse, precomputed distance matrices are allowed\u001b[39;00m\n\u001b[0;32m   1188\u001b[0m     \u001b[39m#   to have numpy.inf values indicating missing distances\u001b[39;00m\n\u001b[1;32m-> 1189\u001b[0m     check_precomputed_distance_matrix(X)\n\u001b[0;32m   1190\u001b[0m     clean_data \u001b[39m=\u001b[39m X\n\u001b[0;32m   1192\u001b[0m kwargs \u001b[39m=\u001b[39m \u001b[39mself\u001b[39m\u001b[39m.\u001b[39mget_params()\n",
      "File \u001b[1;32mc:\\Users\\rokka\\anaconda3\\envs\\idea-isax-sw\\Lib\\site-packages\\hdbscan\\hdbscan_.py:409\u001b[0m, in \u001b[0;36mcheck_precomputed_distance_matrix\u001b[1;34m(X)\u001b[0m\n\u001b[0;32m    407\u001b[0m tmp \u001b[39m=\u001b[39m X\u001b[39m.\u001b[39mcopy()\n\u001b[0;32m    408\u001b[0m tmp[np\u001b[39m.\u001b[39misinf(tmp)] \u001b[39m=\u001b[39m \u001b[39m1\u001b[39m\n\u001b[1;32m--> 409\u001b[0m check_array(tmp)\n",
      "File \u001b[1;32mc:\\Users\\rokka\\anaconda3\\envs\\idea-isax-sw\\Lib\\site-packages\\sklearn\\utils\\validation.py:969\u001b[0m, in \u001b[0;36mcheck_array\u001b[1;34m(array, accept_sparse, accept_large_sparse, dtype, order, copy, force_all_finite, ensure_2d, allow_nd, ensure_min_samples, ensure_min_features, estimator, input_name)\u001b[0m\n\u001b[0;32m    967\u001b[0m     n_samples \u001b[39m=\u001b[39m _num_samples(array)\n\u001b[0;32m    968\u001b[0m     \u001b[39mif\u001b[39;00m n_samples \u001b[39m<\u001b[39m ensure_min_samples:\n\u001b[1;32m--> 969\u001b[0m         \u001b[39mraise\u001b[39;00m \u001b[39mValueError\u001b[39;00m(\n\u001b[0;32m    970\u001b[0m             \u001b[39m\"\u001b[39m\u001b[39mFound array with \u001b[39m\u001b[39m%d\u001b[39;00m\u001b[39m sample(s) (shape=\u001b[39m\u001b[39m%s\u001b[39;00m\u001b[39m) while a\u001b[39m\u001b[39m\"\u001b[39m\n\u001b[0;32m    971\u001b[0m             \u001b[39m\"\u001b[39m\u001b[39m minimum of \u001b[39m\u001b[39m%d\u001b[39;00m\u001b[39m is required\u001b[39m\u001b[39m%s\u001b[39;00m\u001b[39m.\u001b[39m\u001b[39m\"\u001b[39m\n\u001b[0;32m    972\u001b[0m             \u001b[39m%\u001b[39m (n_samples, array\u001b[39m.\u001b[39mshape, ensure_min_samples, context)\n\u001b[0;32m    973\u001b[0m         )\n\u001b[0;32m    975\u001b[0m \u001b[39mif\u001b[39;00m ensure_min_features \u001b[39m>\u001b[39m \u001b[39m0\u001b[39m \u001b[39mand\u001b[39;00m array\u001b[39m.\u001b[39mndim \u001b[39m==\u001b[39m \u001b[39m2\u001b[39m:\n\u001b[0;32m    976\u001b[0m     n_features \u001b[39m=\u001b[39m array\u001b[39m.\u001b[39mshape[\u001b[39m1\u001b[39m]\n",
      "\u001b[1;31mValueError\u001b[0m: Found array with 0 sample(s) (shape=(0, 0)) while a minimum of 1 is required."
     ]
    }
   ],
   "source": [
    "isax_exp_sf.run_experiment(input_file= None,                   #if None, cut of catalog is used\n",
    "                           start_date= dt.datetime(2018, 1, 1),  # start date of catalog cut\n",
    "                           stop_date= dt.datetime(2018, 1, 2),   # end date of catalog cut\n",
    "                           cadence=dt.timedelta(seconds=60),\n",
    "                           cache=True,\n",
    "                           instrument='omni')"
   ]
  }
 ],
 "metadata": {
  "kernelspec": {
   "display_name": "idea-isax-sw",
   "language": "python",
   "name": "python3"
  },
  "language_info": {
   "codemirror_mode": {
    "name": "ipython",
    "version": 3
   },
   "file_extension": ".py",
   "mimetype": "text/x-python",
   "name": "python",
   "nbconvert_exporter": "python",
   "pygments_lexer": "ipython3",
   "version": "3.11.4"
  },
  "orig_nbformat": 4
 },
 "nbformat": 4,
 "nbformat_minor": 2
}
