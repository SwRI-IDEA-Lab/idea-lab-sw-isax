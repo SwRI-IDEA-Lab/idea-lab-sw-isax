{
 "cells": [
  {
   "cell_type": "markdown",
   "metadata": {},
   "source": [
    "Notebook to test the utilizing functions in iSAX python files to read omni data"
   ]
  },
  {
   "cell_type": "code",
   "execution_count": 1,
   "metadata": {},
   "outputs": [],
   "source": [
    "import os\n",
    "os.chdir('C:/Users/rokka/GH-repos/idea-lab-sw-isax')\n",
    "\n",
    "import glob"
   ]
  },
  {
   "cell_type": "code",
   "execution_count": 2,
   "metadata": {},
   "outputs": [],
   "source": [
    "# import local libraries\n",
    "import fdl21.data.prototyping_metrics as pm\n",
    "import fdl21.data.generate_catalog as gc"
   ]
  },
  {
   "cell_type": "markdown",
   "metadata": {},
   "source": [
    "# Test function directly\n",
    "Test `run_OMNI_dataset()` function directly"
   ]
  },
  {
   "cell_type": "code",
   "execution_count": 3,
   "metadata": {},
   "outputs": [],
   "source": [
    "# omni data directory path \n",
    "data_path = 'C:/Users/rokka/AppData/Local/cuseda/nasaomnireader'\n",
    "\n",
    "# Sample fname to match same structure as file access in \"generate_catalog.py\"\n",
    "year = 2015\n",
    "flist = glob.glob(f'{data_path}/{year}/*cdf')   # list of cdf file names\n",
    "fname = flist[0]                                # (sample) single cdf file name"
   ]
  },
  {
   "cell_type": "code",
   "execution_count": 4,
   "metadata": {},
   "outputs": [
    {
     "name": "stdout",
     "output_type": "stream",
     "text": [
      "CPU times: total: 203 ms\n",
      "Wall time: 240 ms\n"
     ]
    },
    {
     "data": {
      "text/html": [
       "<div>\n",
       "<style scoped>\n",
       "    .dataframe tbody tr th:only-of-type {\n",
       "        vertical-align: middle;\n",
       "    }\n",
       "\n",
       "    .dataframe tbody tr th {\n",
       "        vertical-align: top;\n",
       "    }\n",
       "\n",
       "    .dataframe thead th {\n",
       "        text-align: right;\n",
       "    }\n",
       "</style>\n",
       "<table border=\"1\" class=\"dataframe\">\n",
       "  <thead>\n",
       "    <tr style=\"text-align: right;\">\n",
       "      <th></th>\n",
       "      <th>B_mag</th>\n",
       "      <th>BX_GSE</th>\n",
       "      <th>BY_GSE</th>\n",
       "      <th>BZ_GSE</th>\n",
       "    </tr>\n",
       "  </thead>\n",
       "  <tbody>\n",
       "    <tr>\n",
       "      <th>2015-01-01 00:00:00</th>\n",
       "      <td>5.93</td>\n",
       "      <td>5.43</td>\n",
       "      <td>-1.49</td>\n",
       "      <td>1.85</td>\n",
       "    </tr>\n",
       "    <tr>\n",
       "      <th>2015-01-01 00:01:00</th>\n",
       "      <td>6.07</td>\n",
       "      <td>5.16</td>\n",
       "      <td>-2.51</td>\n",
       "      <td>1.82</td>\n",
       "    </tr>\n",
       "    <tr>\n",
       "      <th>2015-01-01 00:02:00</th>\n",
       "      <td>5.93</td>\n",
       "      <td>4.75</td>\n",
       "      <td>-3.05</td>\n",
       "      <td>1.74</td>\n",
       "    </tr>\n",
       "    <tr>\n",
       "      <th>2015-01-01 00:03:00</th>\n",
       "      <td>5.53</td>\n",
       "      <td>4.79</td>\n",
       "      <td>-2.37</td>\n",
       "      <td>1.38</td>\n",
       "    </tr>\n",
       "    <tr>\n",
       "      <th>2015-01-01 00:04:00</th>\n",
       "      <td>NaN</td>\n",
       "      <td>NaN</td>\n",
       "      <td>NaN</td>\n",
       "      <td>NaN</td>\n",
       "    </tr>\n",
       "    <tr>\n",
       "      <th>...</th>\n",
       "      <td>...</td>\n",
       "      <td>...</td>\n",
       "      <td>...</td>\n",
       "      <td>...</td>\n",
       "    </tr>\n",
       "    <tr>\n",
       "      <th>2015-01-31 23:55:00</th>\n",
       "      <td>9.77</td>\n",
       "      <td>-4.03</td>\n",
       "      <td>8.68</td>\n",
       "      <td>-1.86</td>\n",
       "    </tr>\n",
       "    <tr>\n",
       "      <th>2015-01-31 23:56:00</th>\n",
       "      <td>9.67</td>\n",
       "      <td>-3.48</td>\n",
       "      <td>8.72</td>\n",
       "      <td>-2.32</td>\n",
       "    </tr>\n",
       "    <tr>\n",
       "      <th>2015-01-31 23:57:00</th>\n",
       "      <td>9.61</td>\n",
       "      <td>-3.05</td>\n",
       "      <td>8.67</td>\n",
       "      <td>-2.76</td>\n",
       "    </tr>\n",
       "    <tr>\n",
       "      <th>2015-01-31 23:58:00</th>\n",
       "      <td>9.50</td>\n",
       "      <td>-3.16</td>\n",
       "      <td>8.50</td>\n",
       "      <td>-2.82</td>\n",
       "    </tr>\n",
       "    <tr>\n",
       "      <th>2015-01-31 23:59:00</th>\n",
       "      <td>9.63</td>\n",
       "      <td>-3.75</td>\n",
       "      <td>8.32</td>\n",
       "      <td>-2.98</td>\n",
       "    </tr>\n",
       "  </tbody>\n",
       "</table>\n",
       "<p>44640 rows × 4 columns</p>\n",
       "</div>"
      ],
      "text/plain": [
       "                     B_mag  BX_GSE  BY_GSE  BZ_GSE\n",
       "2015-01-01 00:00:00   5.93    5.43   -1.49    1.85\n",
       "2015-01-01 00:01:00   6.07    5.16   -2.51    1.82\n",
       "2015-01-01 00:02:00   5.93    4.75   -3.05    1.74\n",
       "2015-01-01 00:03:00   5.53    4.79   -2.37    1.38\n",
       "2015-01-01 00:04:00    NaN     NaN     NaN     NaN\n",
       "...                    ...     ...     ...     ...\n",
       "2015-01-31 23:55:00   9.77   -4.03    8.68   -1.86\n",
       "2015-01-31 23:56:00   9.67   -3.48    8.72   -2.32\n",
       "2015-01-31 23:57:00   9.61   -3.05    8.67   -2.76\n",
       "2015-01-31 23:58:00   9.50   -3.16    8.50   -2.82\n",
       "2015-01-31 23:59:00   9.63   -3.75    8.32   -2.98\n",
       "\n",
       "[44640 rows x 4 columns]"
      ]
     },
     "execution_count": 4,
     "metadata": {},
     "output_type": "execute_result"
    }
   ],
   "source": [
    "%%time\n",
    "# read_OMNI_dataset function\n",
    "mag_df = pm.read_OMNI_dataset(fname)\n",
    "mag_df"
   ]
  },
  {
   "cell_type": "markdown",
   "metadata": {},
   "source": [
    "# Test through `analyze_file()` \n",
    "\n",
    "`generate_catalog()` function is dependent on  `mag_df` creation using the `analyze_file()` function (both in \"generate_catalog.py\")\n",
    "\n",
    "So the following section is testing `pm.run_OMNI_dataset()` through `gc.analyze_file()` function."
   ]
  },
  {
   "cell_type": "code",
   "execution_count": 5,
   "metadata": {},
   "outputs": [
    {
     "data": {
      "text/plain": [
       "'C:/Users/rokka/AppData/Local/cuseda/nasaomnireader/2015\\\\omni_hro_1min_20150101_v01.cdf'"
      ]
     },
     "execution_count": 5,
     "metadata": {},
     "output_type": "execute_result"
    }
   ],
   "source": [
    "fname"
   ]
  },
  {
   "cell_type": "code",
   "execution_count": 6,
   "metadata": {},
   "outputs": [
    {
     "name": "stderr",
     "output_type": "stream",
     "text": [
      "WARNING [prototyping_metrics:check_sampling_freq:235] \n",
      " Observational coverage: 0.00%\n",
      "Number of data gaps: 44639\n",
      "Average sampling rate: 60.00000\n"
     ]
    },
    {
     "name": "stdout",
     "output_type": "stream",
     "text": [
      "CPU times: total: 484 ms\n",
      "Wall time: 510 ms\n"
     ]
    }
   ],
   "source": [
    "%%time\n",
    "data_dict, hist_out = gc.analyze_file(fname=fname,instrument='omni')"
   ]
  },
  {
   "cell_type": "code",
   "execution_count": 7,
   "metadata": {},
   "outputs": [
    {
     "data": {
      "text/plain": [
       "{'fname': '/nasaomnireader/2015\\\\omni_hro_1min_20150101_v01.cdf',\n",
       " 'B_mag_nnan': 6032,\n",
       " 'BX_GSE_nnan': 6032,\n",
       " 'BY_GSE_nnan': 6032,\n",
       " 'BZ_GSE_nnan': 6032,\n",
       " 'B_mag_mean': 7.2900489535847495,\n",
       " 'B_mag_rms': 2.682854406303795,\n",
       " 'B_mag_min': 0.28,\n",
       " 'B_mag_max': 22.62,\n",
       " 'BX_GSE_mean': -0.2002248238707005,\n",
       " 'BX_GSE_rms': 4.458581494074196,\n",
       " 'BX_GSE_min': -13.62,\n",
       " 'BX_GSE_max': 16.03,\n",
       " 'BY_GSE_mean': 0.31475730418566095,\n",
       " 'BY_GSE_rms': 4.758085517876855,\n",
       " 'BY_GSE_min': -19.94,\n",
       " 'BY_GSE_max': 18.28,\n",
       " 'BZ_GSE_mean': 0.04896601740571901,\n",
       " 'BZ_GSE_rms': 3.950235569924951,\n",
       " 'BZ_GSE_min': -20.47,\n",
       " 'BZ_GSE_max': 16.31,\n",
       " 'B_mag_diff_mean': 0.00023513694054776198,\n",
       " 'B_mag_diff_rms': 0.2670681879005965,\n",
       " 'B_mag_diff_min': -5.119999999999999,\n",
       " 'B_mag_diff_max': 3.969999999999999,\n",
       " 'BX_GSE_diff_mean': -0.0005846359385437525,\n",
       " 'BX_GSE_diff_rms': 0.8062794304236381,\n",
       " 'BX_GSE_diff_min': -13.26,\n",
       " 'BX_GSE_diff_max': 9.969999999999999,\n",
       " 'BY_GSE_diff_mean': 0.00029071476285905075,\n",
       " 'BY_GSE_diff_rms': 0.8749389051983093,\n",
       " 'BY_GSE_diff_min': -13.48,\n",
       " 'BY_GSE_diff_max': 14.52,\n",
       " 'BZ_GSE_diff_mean': 0.0004521042084168333,\n",
       " 'BZ_GSE_diff_rms': 0.9871276164743479,\n",
       " 'BZ_GSE_diff_min': -13.879999999999999,\n",
       " 'BZ_GSE_diff_max': 12.190000000000001,\n",
       " 'average_freq': 60.0,\n",
       " 'max_freq': 60.0,\n",
       " 'min_freq': 60.0,\n",
       " 'n_gaps': 44639,\n",
       " 'starttime_gaps': [DatetimeIndex(['2015-01-01 00:00:00', '2015-01-01 00:01:00',\n",
       "                 '2015-01-01 00:02:00', '2015-01-01 00:03:00',\n",
       "                 '2015-01-01 00:04:00', '2015-01-01 00:05:00',\n",
       "                 '2015-01-01 00:06:00', '2015-01-01 00:07:00',\n",
       "                 '2015-01-01 00:08:00', '2015-01-01 00:09:00',\n",
       "                 ...\n",
       "                 '2015-01-31 23:49:00', '2015-01-31 23:50:00',\n",
       "                 '2015-01-31 23:51:00', '2015-01-31 23:52:00',\n",
       "                 '2015-01-31 23:53:00', '2015-01-31 23:54:00',\n",
       "                 '2015-01-31 23:55:00', '2015-01-31 23:56:00',\n",
       "                 '2015-01-31 23:57:00', '2015-01-31 23:58:00'],\n",
       "                dtype='datetime64[ns]', length=44639, freq=None)],\n",
       " 'total_missing': 2678340.0,\n",
       " 'coverage': 0.0,\n",
       " 'bad': True}"
      ]
     },
     "execution_count": 7,
     "metadata": {},
     "output_type": "execute_result"
    }
   ],
   "source": [
    "data_dict"
   ]
  },
  {
   "cell_type": "code",
   "execution_count": 8,
   "metadata": {},
   "outputs": [
    {
     "data": {
      "text/plain": [
       "array([nan])"
      ]
     },
     "execution_count": 8,
     "metadata": {},
     "output_type": "execute_result"
    }
   ],
   "source": [
    "hist_out"
   ]
  },
  {
   "cell_type": "markdown",
   "metadata": {},
   "source": [
    "# Test catalog generation\n",
    "Test master-catalog generation (using `generate_catalog()` function) with (test) OMNI data."
   ]
  },
  {
   "cell_type": "code",
   "execution_count": 9,
   "metadata": {},
   "outputs": [
    {
     "name": "stderr",
     "output_type": "stream",
     "text": [
      "INFO [generate_catalog:generate_catalog:185] omni\n",
      "INFO [generate_catalog:generate_catalog:204] Found 36 files to process\n",
      "0it [00:00, ?it/s]WARNING [prototyping_metrics:check_sampling_freq:235] \n",
      " Observational coverage: 0.00%\n",
      "Number of data gaps: 44639\n",
      "Average sampling rate: 60.00000\n",
      "1it [00:00,  2.09it/s]WARNING [prototyping_metrics:check_sampling_freq:235] \n",
      " Observational coverage: 0.00%\n",
      "Number of data gaps: 40319\n",
      "Average sampling rate: 60.00000\n",
      "2it [00:00,  2.67it/s]WARNING [prototyping_metrics:check_sampling_freq:235] \n",
      " Observational coverage: 0.00%\n",
      "Number of data gaps: 44639\n",
      "Average sampling rate: 60.00000\n",
      "3it [00:01,  3.10it/s]WARNING [prototyping_metrics:check_sampling_freq:235] \n",
      " Observational coverage: 0.00%\n",
      "Number of data gaps: 43199\n",
      "Average sampling rate: 60.00000\n",
      "4it [00:01,  3.08it/s]WARNING [prototyping_metrics:check_sampling_freq:235] \n",
      " Observational coverage: 0.00%\n",
      "Number of data gaps: 44639\n",
      "Average sampling rate: 60.00000\n",
      "5it [00:01,  3.11it/s]WARNING [prototyping_metrics:check_sampling_freq:235] \n",
      " Observational coverage: 0.00%\n",
      "Number of data gaps: 43199\n",
      "Average sampling rate: 60.00000\n",
      "6it [00:01,  3.13it/s]WARNING [prototyping_metrics:check_sampling_freq:235] \n",
      " Observational coverage: 0.00%\n",
      "Number of data gaps: 44639\n",
      "Average sampling rate: 60.00000\n",
      "7it [00:02,  2.86it/s]WARNING [prototyping_metrics:check_sampling_freq:235] \n",
      " Observational coverage: 0.00%\n",
      "Number of data gaps: 44639\n",
      "Average sampling rate: 60.00000\n",
      "8it [00:02,  3.13it/s]WARNING [prototyping_metrics:check_sampling_freq:235] \n",
      " Observational coverage: 0.00%\n",
      "Number of data gaps: 43199\n",
      "Average sampling rate: 60.00000\n",
      "9it [00:02,  3.22it/s]WARNING [prototyping_metrics:check_sampling_freq:235] \n",
      " Observational coverage: 0.00%\n",
      "Number of data gaps: 44639\n",
      "Average sampling rate: 60.00000\n",
      "10it [00:03,  3.03it/s]WARNING [prototyping_metrics:check_sampling_freq:235] \n",
      " Observational coverage: 0.00%\n",
      "Number of data gaps: 43199\n",
      "Average sampling rate: 60.00000\n",
      "11it [00:03,  2.87it/s]WARNING [prototyping_metrics:check_sampling_freq:235] \n",
      " Observational coverage: 0.00%\n",
      "Number of data gaps: 44639\n",
      "Average sampling rate: 60.00000\n",
      "12it [00:04,  2.96it/s]WARNING [prototyping_metrics:check_sampling_freq:235] \n",
      " Observational coverage: 0.00%\n",
      "Number of data gaps: 44639\n",
      "Average sampling rate: 60.00000\n",
      "13it [00:04,  2.81it/s]WARNING [prototyping_metrics:check_sampling_freq:235] \n",
      " Observational coverage: 0.00%\n",
      "Number of data gaps: 40319\n",
      "Average sampling rate: 60.00000\n",
      "14it [00:04,  2.93it/s]WARNING [prototyping_metrics:check_sampling_freq:235] \n",
      " Observational coverage: 0.00%\n",
      "Number of data gaps: 44639\n",
      "Average sampling rate: 60.00000\n",
      "15it [00:05,  2.92it/s]WARNING [prototyping_metrics:check_sampling_freq:235] \n",
      " Observational coverage: 0.00%\n",
      "Number of data gaps: 43199\n",
      "Average sampling rate: 60.00000\n",
      "16it [00:05,  2.92it/s]WARNING [prototyping_metrics:check_sampling_freq:235] \n",
      " Observational coverage: 0.00%\n",
      "Number of data gaps: 44639\n",
      "Average sampling rate: 60.00000\n",
      "17it [00:05,  2.95it/s]WARNING [prototyping_metrics:check_sampling_freq:235] \n",
      " Observational coverage: 0.00%\n",
      "Number of data gaps: 43199\n",
      "Average sampling rate: 60.00000\n",
      "18it [00:06,  3.04it/s]WARNING [prototyping_metrics:check_sampling_freq:235] \n",
      " Observational coverage: 0.00%\n",
      "Number of data gaps: 44639\n",
      "Average sampling rate: 60.00000\n",
      "19it [00:06,  3.10it/s]WARNING [prototyping_metrics:check_sampling_freq:235] \n",
      " Observational coverage: 0.00%\n",
      "Number of data gaps: 44639\n",
      "Average sampling rate: 60.00000\n",
      "20it [00:06,  3.03it/s]WARNING [prototyping_metrics:check_sampling_freq:235] \n",
      " Observational coverage: 0.00%\n",
      "Number of data gaps: 43199\n",
      "Average sampling rate: 60.00000\n",
      "21it [00:07,  2.96it/s]WARNING [prototyping_metrics:check_sampling_freq:235] \n",
      " Observational coverage: 0.00%\n",
      "Number of data gaps: 44639\n",
      "Average sampling rate: 60.00000\n",
      "22it [00:07,  2.82it/s]WARNING [prototyping_metrics:check_sampling_freq:235] \n",
      " Observational coverage: 0.00%\n",
      "Number of data gaps: 43199\n",
      "Average sampling rate: 60.00000\n",
      "23it [00:07,  2.55it/s]WARNING [prototyping_metrics:check_sampling_freq:235] \n",
      " Observational coverage: 0.00%\n",
      "Number of data gaps: 44639\n",
      "Average sampling rate: 60.00000\n",
      "24it [00:08,  2.65it/s]WARNING [prototyping_metrics:check_sampling_freq:235] \n",
      " Observational coverage: 0.00%\n",
      "Number of data gaps: 44639\n",
      "Average sampling rate: 60.00000\n",
      "25it [00:08,  2.97it/s]WARNING [prototyping_metrics:check_sampling_freq:235] \n",
      " Observational coverage: 0.00%\n",
      "Number of data gaps: 40319\n",
      "Average sampling rate: 60.00000\n",
      "26it [00:08,  2.93it/s]WARNING [prototyping_metrics:check_sampling_freq:235] \n",
      " Observational coverage: 0.00%\n",
      "Number of data gaps: 44639\n",
      "Average sampling rate: 60.00000\n",
      "27it [00:09,  2.95it/s]WARNING [prototyping_metrics:check_sampling_freq:235] \n",
      " Observational coverage: 0.00%\n",
      "Number of data gaps: 43199\n",
      "Average sampling rate: 60.00000\n",
      "28it [00:09,  2.81it/s]WARNING [prototyping_metrics:check_sampling_freq:235] \n",
      " Observational coverage: 0.00%\n",
      "Number of data gaps: 44639\n",
      "Average sampling rate: 60.00000\n",
      "29it [00:10,  2.69it/s]WARNING [prototyping_metrics:check_sampling_freq:235] \n",
      " Observational coverage: 0.00%\n",
      "Number of data gaps: 43199\n",
      "Average sampling rate: 60.00000\n",
      "30it [00:10,  3.00it/s]WARNING [prototyping_metrics:check_sampling_freq:235] \n",
      " Observational coverage: 0.00%\n",
      "Number of data gaps: 44639\n",
      "Average sampling rate: 60.00000\n",
      "31it [00:10,  2.83it/s]WARNING [prototyping_metrics:check_sampling_freq:235] \n",
      " Observational coverage: 0.00%\n",
      "Number of data gaps: 44639\n",
      "Average sampling rate: 60.00000\n",
      "32it [00:10,  2.90it/s]WARNING [prototyping_metrics:check_sampling_freq:235] \n",
      " Observational coverage: 0.00%\n",
      "Number of data gaps: 43199\n",
      "Average sampling rate: 60.00000\n",
      "33it [00:11,  2.92it/s]WARNING [prototyping_metrics:check_sampling_freq:235] \n",
      " Observational coverage: 0.00%\n",
      "Number of data gaps: 44639\n",
      "Average sampling rate: 60.00000\n",
      "34it [00:11,  3.01it/s]WARNING [prototyping_metrics:check_sampling_freq:235] \n",
      " Observational coverage: 0.00%\n",
      "Number of data gaps: 43199\n",
      "Average sampling rate: 60.00000\n",
      "35it [00:11,  3.20it/s]WARNING [prototyping_metrics:check_sampling_freq:235] \n",
      " Observational coverage: 0.00%\n",
      "Number of data gaps: 44639\n",
      "Average sampling rate: 60.00000\n",
      "36it [00:12,  2.92it/s]\n",
      "INFO [generate_catalog:generate_catalog:257] Execution time: 12.361\n"
     ]
    },
    {
     "name": "stdout",
     "output_type": "stream",
     "text": [
      "CPU times: total: 11 s\n",
      "Wall time: 12.4 s\n"
     ]
    }
   ],
   "source": [
    "%%time\n",
    "\n",
    "data_path = 'C:/Users/rokka/AppData/Local/cuseda/nasaomnireader'\n",
    "gc.generate_catalog(start_year=2017,stop_year=2019,data_path=data_path,instrument='omni')"
   ]
  }
 ],
 "metadata": {
  "kernelspec": {
   "display_name": "idea-isax-sw",
   "language": "python",
   "name": "python3"
  },
  "language_info": {
   "codemirror_mode": {
    "name": "ipython",
    "version": 3
   },
   "file_extension": ".py",
   "mimetype": "text/x-python",
   "name": "python",
   "nbconvert_exporter": "python",
   "pygments_lexer": "ipython3",
   "version": "3.11.4"
  },
  "orig_nbformat": 4
 },
 "nbformat": 4,
 "nbformat_minor": 2
}
