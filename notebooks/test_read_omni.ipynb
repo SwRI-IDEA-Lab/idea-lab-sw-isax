{
 "cells": [
  {
   "cell_type": "markdown",
   "metadata": {},
   "source": [
    "Notebook to test the utilizing functions in iSAX python files to read omni data"
   ]
  },
  {
   "cell_type": "code",
   "execution_count": 2,
   "metadata": {},
   "outputs": [],
   "source": [
    "import os\n",
    "os.chdir('C:/Users/rokka/GH-repos/idea-lab-sw-isax')"
   ]
  },
  {
   "cell_type": "code",
   "execution_count": 3,
   "metadata": {},
   "outputs": [],
   "source": [
    "# import local libraries\n",
    "# TODO: Move notebook outside directory and use fdl21.protyping_metrics, etc.\n",
    "import prototyping_metrics as pm     \n",
    "import generate_catalog as gc"
   ]
  },
  {
   "cell_type": "markdown",
   "metadata": {},
   "source": [
    "# Test function directly\n",
    "Test `run_OMNI_dataset()` function directly"
   ]
  },
  {
   "cell_type": "code",
   "execution_count": 4,
   "metadata": {},
   "outputs": [],
   "source": [
    "# omni data file paths\n",
    "list_path = 'c:/Users/rokka/sw-data/omni/imf/omni_min_1EKAYjCfVG.lst'\n",
    "fmt_path = 'c:/Users/rokka/sw-data/omni/imf/omni_min_1EKAYjCfVG.fmt'"
   ]
  },
  {
   "cell_type": "code",
   "execution_count": 5,
   "metadata": {},
   "outputs": [
    {
     "data": {
      "text/html": [
       "<div>\n",
       "<style scoped>\n",
       "    .dataframe tbody tr th:only-of-type {\n",
       "        vertical-align: middle;\n",
       "    }\n",
       "\n",
       "    .dataframe tbody tr th {\n",
       "        vertical-align: top;\n",
       "    }\n",
       "\n",
       "    .dataframe thead th {\n",
       "        text-align: right;\n",
       "    }\n",
       "</style>\n",
       "<table border=\"1\" class=\"dataframe\">\n",
       "  <thead>\n",
       "    <tr style=\"text-align: right;\">\n",
       "      <th></th>\n",
       "      <th>Field</th>\n",
       "      <th>BX</th>\n",
       "      <th>BY</th>\n",
       "      <th>BZ</th>\n",
       "    </tr>\n",
       "    <tr>\n",
       "      <th>Epoch</th>\n",
       "      <th></th>\n",
       "      <th></th>\n",
       "      <th></th>\n",
       "      <th></th>\n",
       "    </tr>\n",
       "  </thead>\n",
       "  <tbody>\n",
       "    <tr>\n",
       "      <th>2019-01-01 00:00:00</th>\n",
       "      <td>5.11</td>\n",
       "      <td>-3.68</td>\n",
       "      <td>2.62</td>\n",
       "      <td>2.14</td>\n",
       "    </tr>\n",
       "    <tr>\n",
       "      <th>2019-01-01 00:01:00</th>\n",
       "      <td>5.10</td>\n",
       "      <td>-3.57</td>\n",
       "      <td>2.90</td>\n",
       "      <td>1.92</td>\n",
       "    </tr>\n",
       "    <tr>\n",
       "      <th>2019-01-01 00:02:00</th>\n",
       "      <td>4.86</td>\n",
       "      <td>-3.33</td>\n",
       "      <td>2.93</td>\n",
       "      <td>1.89</td>\n",
       "    </tr>\n",
       "    <tr>\n",
       "      <th>2019-01-01 00:03:00</th>\n",
       "      <td>4.78</td>\n",
       "      <td>-3.37</td>\n",
       "      <td>2.78</td>\n",
       "      <td>1.92</td>\n",
       "    </tr>\n",
       "    <tr>\n",
       "      <th>2019-01-01 00:04:00</th>\n",
       "      <td>4.80</td>\n",
       "      <td>-3.56</td>\n",
       "      <td>2.69</td>\n",
       "      <td>1.75</td>\n",
       "    </tr>\n",
       "    <tr>\n",
       "      <th>...</th>\n",
       "      <td>...</td>\n",
       "      <td>...</td>\n",
       "      <td>...</td>\n",
       "      <td>...</td>\n",
       "    </tr>\n",
       "    <tr>\n",
       "      <th>2020-01-01 23:55:00</th>\n",
       "      <td>4.57</td>\n",
       "      <td>4.37</td>\n",
       "      <td>-0.18</td>\n",
       "      <td>0.74</td>\n",
       "    </tr>\n",
       "    <tr>\n",
       "      <th>2020-01-01 23:56:00</th>\n",
       "      <td>3.93</td>\n",
       "      <td>3.49</td>\n",
       "      <td>-0.91</td>\n",
       "      <td>1.16</td>\n",
       "    </tr>\n",
       "    <tr>\n",
       "      <th>2020-01-01 23:57:00</th>\n",
       "      <td>4.20</td>\n",
       "      <td>3.88</td>\n",
       "      <td>-0.72</td>\n",
       "      <td>1.08</td>\n",
       "    </tr>\n",
       "    <tr>\n",
       "      <th>2020-01-01 23:58:00</th>\n",
       "      <td>4.04</td>\n",
       "      <td>3.71</td>\n",
       "      <td>-0.96</td>\n",
       "      <td>1.14</td>\n",
       "    </tr>\n",
       "    <tr>\n",
       "      <th>2020-01-01 23:59:00</th>\n",
       "      <td>3.97</td>\n",
       "      <td>3.43</td>\n",
       "      <td>1.71</td>\n",
       "      <td>0.37</td>\n",
       "    </tr>\n",
       "  </tbody>\n",
       "</table>\n",
       "<p>527040 rows × 4 columns</p>\n",
       "</div>"
      ],
      "text/plain": [
       "                     Field    BX    BY    BZ\n",
       "Epoch                                       \n",
       "2019-01-01 00:00:00   5.11 -3.68  2.62  2.14\n",
       "2019-01-01 00:01:00   5.10 -3.57  2.90  1.92\n",
       "2019-01-01 00:02:00   4.86 -3.33  2.93  1.89\n",
       "2019-01-01 00:03:00   4.78 -3.37  2.78  1.92\n",
       "2019-01-01 00:04:00   4.80 -3.56  2.69  1.75\n",
       "...                    ...   ...   ...   ...\n",
       "2020-01-01 23:55:00   4.57  4.37 -0.18  0.74\n",
       "2020-01-01 23:56:00   3.93  3.49 -0.91  1.16\n",
       "2020-01-01 23:57:00   4.20  3.88 -0.72  1.08\n",
       "2020-01-01 23:58:00   4.04  3.71 -0.96  1.14\n",
       "2020-01-01 23:59:00   3.97  3.43  1.71  0.37\n",
       "\n",
       "[527040 rows x 4 columns]"
      ]
     },
     "execution_count": 5,
     "metadata": {},
     "output_type": "execute_result"
    }
   ],
   "source": [
    "# read_OMNI_dataset function\n",
    "mag_df = pm.read_OMNI_dataset(list_path,fmt_path)\n",
    "mag_df"
   ]
  },
  {
   "cell_type": "markdown",
   "metadata": {},
   "source": [
    "# Test through `analyze_file()` \n",
    "\n",
    "`generate_catalog()` function is dependent on  `mag_df` creation using the `analyze_file()` function (both in \"generate_catalog.py\")\n",
    "\n",
    "So the following section is testing `pm.run_OMNI_dataset()` through `gc.analyze_file()` function."
   ]
  },
  {
   "cell_type": "code",
   "execution_count": null,
   "metadata": {},
   "outputs": [],
   "source": []
  },
  {
   "cell_type": "markdown",
   "metadata": {},
   "source": [
    "# Test catalog generation\n",
    "Test master-catalog generation (using `generate_catalog()` function) with (test) OMNI data."
   ]
  },
  {
   "cell_type": "code",
   "execution_count": null,
   "metadata": {},
   "outputs": [],
   "source": []
  }
 ],
 "metadata": {
  "kernelspec": {
   "display_name": "idea-isax-sw",
   "language": "python",
   "name": "python3"
  },
  "language_info": {
   "codemirror_mode": {
    "name": "ipython",
    "version": 3
   },
   "file_extension": ".py",
   "mimetype": "text/x-python",
   "name": "python",
   "nbconvert_exporter": "python",
   "pygments_lexer": "ipython3",
   "version": "3.11.4"
  },
  "orig_nbformat": 4
 },
 "nbformat": 4,
 "nbformat_minor": 2
}
