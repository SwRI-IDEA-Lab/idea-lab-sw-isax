{
 "cells": [
  {
   "cell_type": "markdown",
   "metadata": {},
   "source": [
    "Notebook to test the utilizing functions in iSAX python files to read omni data"
   ]
  },
  {
   "cell_type": "code",
   "execution_count": 1,
   "metadata": {},
   "outputs": [],
   "source": [
    "import os\n",
    "os.chdir('C:/Users/rokka/GH-repos/idea-lab-sw-isax')"
   ]
  },
  {
   "cell_type": "code",
   "execution_count": 2,
   "metadata": {},
   "outputs": [],
   "source": [
    "# import local libraries\n",
    "import fdl21.data.prototyping_metrics as pm\n",
    "import fdl21.data.generate_catalog as gc"
   ]
  },
  {
   "cell_type": "markdown",
   "metadata": {},
   "source": [
    "# Test function directly\n",
    "Test `run_OMNI_dataset()` function directly"
   ]
  },
  {
   "cell_type": "code",
   "execution_count": 3,
   "metadata": {},
   "outputs": [],
   "source": [
    "# omni data directory path \n",
    "# will act as fname in generate_catalog\n",
    "dir_name = 'c:/Users/rokka/sw-data/omni/imf/'"
   ]
  },
  {
   "cell_type": "code",
   "execution_count": 4,
   "metadata": {},
   "outputs": [
    {
     "name": "stdout",
     "output_type": "stream",
     "text": [
      "CPU times: total: 1min 10s\n",
      "Wall time: 1min 11s\n"
     ]
    },
    {
     "data": {
      "text/html": [
       "<div>\n",
       "<style scoped>\n",
       "    .dataframe tbody tr th:only-of-type {\n",
       "        vertical-align: middle;\n",
       "    }\n",
       "\n",
       "    .dataframe tbody tr th {\n",
       "        vertical-align: top;\n",
       "    }\n",
       "\n",
       "    .dataframe thead th {\n",
       "        text-align: right;\n",
       "    }\n",
       "</style>\n",
       "<table border=\"1\" class=\"dataframe\">\n",
       "  <thead>\n",
       "    <tr style=\"text-align: right;\">\n",
       "      <th></th>\n",
       "      <th>Field</th>\n",
       "      <th>BX</th>\n",
       "      <th>BY</th>\n",
       "      <th>BZ</th>\n",
       "    </tr>\n",
       "    <tr>\n",
       "      <th>Epoch</th>\n",
       "      <th></th>\n",
       "      <th></th>\n",
       "      <th></th>\n",
       "      <th></th>\n",
       "    </tr>\n",
       "  </thead>\n",
       "  <tbody>\n",
       "    <tr>\n",
       "      <th>2019-01-01 00:00:00</th>\n",
       "      <td>5.11</td>\n",
       "      <td>-3.68</td>\n",
       "      <td>2.62</td>\n",
       "      <td>2.14</td>\n",
       "    </tr>\n",
       "    <tr>\n",
       "      <th>2019-01-01 00:01:00</th>\n",
       "      <td>5.10</td>\n",
       "      <td>-3.57</td>\n",
       "      <td>2.90</td>\n",
       "      <td>1.92</td>\n",
       "    </tr>\n",
       "    <tr>\n",
       "      <th>2019-01-01 00:02:00</th>\n",
       "      <td>4.86</td>\n",
       "      <td>-3.33</td>\n",
       "      <td>2.93</td>\n",
       "      <td>1.89</td>\n",
       "    </tr>\n",
       "    <tr>\n",
       "      <th>2019-01-01 00:03:00</th>\n",
       "      <td>4.78</td>\n",
       "      <td>-3.37</td>\n",
       "      <td>2.78</td>\n",
       "      <td>1.92</td>\n",
       "    </tr>\n",
       "    <tr>\n",
       "      <th>2019-01-01 00:04:00</th>\n",
       "      <td>4.80</td>\n",
       "      <td>-3.56</td>\n",
       "      <td>2.69</td>\n",
       "      <td>1.75</td>\n",
       "    </tr>\n",
       "    <tr>\n",
       "      <th>...</th>\n",
       "      <td>...</td>\n",
       "      <td>...</td>\n",
       "      <td>...</td>\n",
       "      <td>...</td>\n",
       "    </tr>\n",
       "    <tr>\n",
       "      <th>2020-01-01 23:55:00</th>\n",
       "      <td>4.57</td>\n",
       "      <td>4.37</td>\n",
       "      <td>-0.18</td>\n",
       "      <td>0.74</td>\n",
       "    </tr>\n",
       "    <tr>\n",
       "      <th>2020-01-01 23:56:00</th>\n",
       "      <td>3.93</td>\n",
       "      <td>3.49</td>\n",
       "      <td>-0.91</td>\n",
       "      <td>1.16</td>\n",
       "    </tr>\n",
       "    <tr>\n",
       "      <th>2020-01-01 23:57:00</th>\n",
       "      <td>4.20</td>\n",
       "      <td>3.88</td>\n",
       "      <td>-0.72</td>\n",
       "      <td>1.08</td>\n",
       "    </tr>\n",
       "    <tr>\n",
       "      <th>2020-01-01 23:58:00</th>\n",
       "      <td>4.04</td>\n",
       "      <td>3.71</td>\n",
       "      <td>-0.96</td>\n",
       "      <td>1.14</td>\n",
       "    </tr>\n",
       "    <tr>\n",
       "      <th>2020-01-01 23:59:00</th>\n",
       "      <td>3.97</td>\n",
       "      <td>3.43</td>\n",
       "      <td>1.71</td>\n",
       "      <td>0.37</td>\n",
       "    </tr>\n",
       "  </tbody>\n",
       "</table>\n",
       "<p>527040 rows × 4 columns</p>\n",
       "</div>"
      ],
      "text/plain": [
       "                     Field    BX    BY    BZ\n",
       "Epoch                                       \n",
       "2019-01-01 00:00:00   5.11 -3.68  2.62  2.14\n",
       "2019-01-01 00:01:00   5.10 -3.57  2.90  1.92\n",
       "2019-01-01 00:02:00   4.86 -3.33  2.93  1.89\n",
       "2019-01-01 00:03:00   4.78 -3.37  2.78  1.92\n",
       "2019-01-01 00:04:00   4.80 -3.56  2.69  1.75\n",
       "...                    ...   ...   ...   ...\n",
       "2020-01-01 23:55:00   4.57  4.37 -0.18  0.74\n",
       "2020-01-01 23:56:00   3.93  3.49 -0.91  1.16\n",
       "2020-01-01 23:57:00   4.20  3.88 -0.72  1.08\n",
       "2020-01-01 23:58:00   4.04  3.71 -0.96  1.14\n",
       "2020-01-01 23:59:00   3.97  3.43  1.71  0.37\n",
       "\n",
       "[527040 rows x 4 columns]"
      ]
     },
     "execution_count": 4,
     "metadata": {},
     "output_type": "execute_result"
    }
   ],
   "source": [
    "%%time\n",
    "# read_OMNI_dataset function\n",
    "mag_df = pm.read_OMNI_dataset(dir_name)\n",
    "mag_df"
   ]
  },
  {
   "cell_type": "markdown",
   "metadata": {},
   "source": [
    "# Test through `analyze_file()` \n",
    "\n",
    "`generate_catalog()` function is dependent on  `mag_df` creation using the `analyze_file()` function (both in \"generate_catalog.py\")\n",
    "\n",
    "So the following section is testing `pm.run_OMNI_dataset()` through `gc.analyze_file()` function."
   ]
  },
  {
   "cell_type": "code",
   "execution_count": 5,
   "metadata": {},
   "outputs": [],
   "source": [
    "# omni data directory path \n",
    "# will act as fname in generate_catalog file\n",
    "dir_name = 'c:/Users/rokka/sw-data/omni/imf/'"
   ]
  },
  {
   "cell_type": "code",
   "execution_count": 6,
   "metadata": {},
   "outputs": [
    {
     "name": "stderr",
     "output_type": "stream",
     "text": [
      "WARNING [prototyping_metrics:check_sampling_freq:189] \n",
      " Observational coverage: 0.00%\n",
      "Number of data gaps: 527039\n",
      "Average sampling rate: 60.00000\n"
     ]
    },
    {
     "name": "stdout",
     "output_type": "stream",
     "text": [
      "CPU times: total: 1min 19s\n",
      "Wall time: 1min 21s\n"
     ]
    }
   ],
   "source": [
    "%%time\n",
    "data_dict, hist_out = gc.analyze_file(fname=dir_name,instrument='omni')"
   ]
  },
  {
   "cell_type": "code",
   "execution_count": 7,
   "metadata": {},
   "outputs": [
    {
     "data": {
      "text/plain": [
       "{'fname': '/imf/',\n",
       " 'Field_nnan': 44782,\n",
       " 'BX_nnan': 44782,\n",
       " 'BY_nnan': 44782,\n",
       " 'BZ_nnan': 44782,\n",
       " 'Field_mean': 4.526540917931894,\n",
       " 'Field_rms': 1.929094323918066,\n",
       " 'Field_min': 0.17,\n",
       " 'Field_max': 23.17,\n",
       " 'BX_mean': 0.28579795462180013,\n",
       " 'BX_rms': 2.8354709673838334,\n",
       " 'BX_min': -16.18,\n",
       " 'BX_max': 16.18,\n",
       " 'BY_mean': -0.4439948533772381,\n",
       " 'BY_rms': 3.12031229306815,\n",
       " 'BY_min': -14.32,\n",
       " 'BY_max': 18.68,\n",
       " 'BZ_mean': -0.01784499168494872,\n",
       " 'BZ_rms': 2.285821369302165,\n",
       " 'BZ_min': -20.02,\n",
       " 'BZ_max': 16.63,\n",
       " 'Field_diff_mean': 0.00011464201228747936,\n",
       " 'Field_diff_rms': 0.22945738617077815,\n",
       " 'Field_diff_min': -6.030000000000001,\n",
       " 'Field_diff_max': 6.18,\n",
       " 'BX_diff_mean': 0.0002356022056195646,\n",
       " 'BX_diff_rms': 0.5466892762243575,\n",
       " 'BX_diff_min': -18.66,\n",
       " 'BX_diff_max': 19.47,\n",
       " 'BY_diff_mean': -0.00024704726084514704,\n",
       " 'BY_diff_rms': 0.575918493602324,\n",
       " 'BY_diff_min': -15.52,\n",
       " 'BY_diff_max': 10.920000000000002,\n",
       " 'BZ_diff_mean': -4.5950407597134815e-06,\n",
       " 'BZ_diff_rms': 0.6550619417641118,\n",
       " 'BZ_diff_min': -21.79,\n",
       " 'BZ_diff_max': 16.67,\n",
       " 'average_freq': 60.0,\n",
       " 'max_freq': 60.0,\n",
       " 'min_freq': 60.0,\n",
       " 'n_gaps': 527039,\n",
       " 'starttime_gaps': [DatetimeIndex(['2019-01-01 00:00:00', '2019-01-01 00:01:00',\n",
       "                 '2019-01-01 00:02:00', '2019-01-01 00:03:00',\n",
       "                 '2019-01-01 00:04:00', '2019-01-01 00:05:00',\n",
       "                 '2019-01-01 00:06:00', '2019-01-01 00:07:00',\n",
       "                 '2019-01-01 00:08:00', '2019-01-01 00:09:00',\n",
       "                 ...\n",
       "                 '2020-01-01 23:49:00', '2020-01-01 23:50:00',\n",
       "                 '2020-01-01 23:51:00', '2020-01-01 23:52:00',\n",
       "                 '2020-01-01 23:53:00', '2020-01-01 23:54:00',\n",
       "                 '2020-01-01 23:55:00', '2020-01-01 23:56:00',\n",
       "                 '2020-01-01 23:57:00', '2020-01-01 23:58:00'],\n",
       "                dtype='datetime64[ns]', name='Epoch', length=527039, freq=None)],\n",
       " 'total_missing': 31622340.0,\n",
       " 'coverage': 0.0,\n",
       " 'bad': True}"
      ]
     },
     "execution_count": 7,
     "metadata": {},
     "output_type": "execute_result"
    }
   ],
   "source": [
    "data_dict"
   ]
  },
  {
   "cell_type": "code",
   "execution_count": 8,
   "metadata": {},
   "outputs": [
    {
     "data": {
      "text/plain": [
       "array([nan])"
      ]
     },
     "execution_count": 8,
     "metadata": {},
     "output_type": "execute_result"
    }
   ],
   "source": [
    "hist_out"
   ]
  },
  {
   "cell_type": "markdown",
   "metadata": {},
   "source": [
    "# Test catalog generation\n",
    "Test master-catalog generation (using `generate_catalog()` function) with (test) OMNI data."
   ]
  },
  {
   "cell_type": "code",
   "execution_count": null,
   "metadata": {},
   "outputs": [],
   "source": []
  }
 ],
 "metadata": {
  "kernelspec": {
   "display_name": "idea-isax-sw",
   "language": "python",
   "name": "python3"
  },
  "language_info": {
   "codemirror_mode": {
    "name": "ipython",
    "version": 3
   },
   "file_extension": ".py",
   "mimetype": "text/x-python",
   "name": "python",
   "nbconvert_exporter": "python",
   "pygments_lexer": "ipython3",
   "version": "3.11.4"
  },
  "orig_nbformat": 4
 },
 "nbformat": 4,
 "nbformat_minor": 2
}
